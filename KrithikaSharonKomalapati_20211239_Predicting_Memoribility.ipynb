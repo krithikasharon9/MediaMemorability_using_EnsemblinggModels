{
  "nbformat": 4,
  "nbformat_minor": 0,
  "metadata": {
    "colab": {
      "name": "KrithikaSharonKomalapati_20211239_Predicting_Memoribility.ipynb",
      "provenance": []
    },
    "kernelspec": {
      "display_name": "Python 3",
      "name": "python3"
    },
    "language_info": {
      "name": "python"
    }
  },
  "cells": [
    {
      "cell_type": "markdown",
      "metadata": {
        "id": "Hw8JwvHpgUWM"
      },
      "source": [
        "#**Video Memoribility using HMP features**\n",
        "\n",
        "*This notebook is finding short-term and long-term memoribility uding the HMP features.*"
      ]
    },
    {
      "cell_type": "code",
      "metadata": {
        "colab": {
          "base_uri": "https://localhost:8080/"
        },
        "id": "ZfOAqhKAhxh3",
        "outputId": "2ae88e56-156d-44b6-bee7-f013040ffedf"
      },
      "source": [
        "#Mounting my google drive with Google Colab\n",
        "\n",
        "from google.colab import drive\n",
        "import os\n",
        "drive.mount('/content/drive/',force_remount=True)\n",
        "os.chdir('/content/drive/My Drive')"
      ],
      "execution_count": 1,
      "outputs": [
        {
          "output_type": "stream",
          "text": [
            "Mounted at /content/drive/\n"
          ],
          "name": "stdout"
        }
      ]
    },
    {
      "cell_type": "code",
      "metadata": {
        "id": "gQe3bA6mhyOg"
      },
      "source": [
        "#Importing all libraries needed for this project\n",
        "\n",
        "import pandas as pd\n",
        "import glob\n",
        "\n",
        "import numpy as np\n",
        "from sklearn.ensemble import RandomForestRegressor\n",
        "from sklearn.tree import DecisionTreeRegressor\n",
        "from sklearn.neighbors import KNeighborsRegressor\n",
        "from sklearn.ensemble import AdaBoostRegressor\n",
        "from sklearn.ensemble import GradientBoostingRegressor\n",
        "\n",
        "from keras.models import Sequential\n",
        "from keras.layers import Dense\n",
        "from keras.wrappers.scikit_learn import KerasRegressor\n",
        "from sklearn.preprocessing import StandardScaler\n",
        "from sklearn.pipeline import Pipeline\n",
        "from tensorflow.keras import layers\n",
        "\n",
        "from sklearn.model_selection import train_test_split\n",
        "import matplotlib.pyplot as plt"
      ],
      "execution_count": 2,
      "outputs": []
    },
    {
      "cell_type": "markdown",
      "metadata": {
        "id": "c24fVupiE5IB"
      },
      "source": [
        "##**Calculating the Spearman Correlation coefficients**"
      ]
    },
    {
      "cell_type": "code",
      "metadata": {
        "id": "kxTmhg-5E1wE"
      },
      "source": [
        "def Get_score(Y_pred,Y_true):\n",
        "    '''Calculate the Spearmann\"s correlation coefficient'''\n",
        "    Y_pred = np.squeeze(Y_pred)\n",
        "    Y_true = np.squeeze(Y_true)\n",
        "    if Y_pred.shape != Y_true.shape:\n",
        "        print('Input shapes don\\'t match!')\n",
        "    else:\n",
        "        if len(Y_pred.shape) == 1:\n",
        "            Res = pd.DataFrame({'Y_true':Y_true,'Y_pred':Y_pred})\n",
        "            score_mat = Res[['Y_true','Y_pred']].corr(method='spearman',min_periods=1)\n",
        "            print('The Spearman\\'s correlation coefficient is: %.3f' % score_mat.iloc[1][0])\n",
        "        else:\n",
        "            for ii in range(Y_pred.shape[1]):\n",
        "                Get_score(Y_pred[:,ii],Y_true[:,ii])"
      ],
      "execution_count": 3,
      "outputs": []
    },
    {
      "cell_type": "markdown",
      "metadata": {
        "id": "5XkbQqmj3Kv5"
      },
      "source": [
        "##**Working with HMP feature Videos**\n",
        "\n",
        "*1. Check the length of the HMP features.*\n",
        "\n",
        "*2. Loading the HMP features and storing them in a dataframe.*\n",
        "\n",
        "*3. Export the dataframe for future use.*"
      ]
    },
    {
      "cell_type": "code",
      "metadata": {
        "colab": {
          "base_uri": "https://localhost:8080/"
        },
        "id": "_S_Trgc4itnA",
        "outputId": "fe09da9d-f4fb-4024-f140-83fd1c39ac92"
      },
      "source": [
        "#Storing all the HMP dev videos in a variable HMP_path\n",
        "\n",
        "HMP_path = glob.glob('./HMP/*.txt')\n",
        "len(HMP_path)"
      ],
      "execution_count": 4,
      "outputs": [
        {
          "output_type": "execute_result",
          "data": {
            "text/plain": [
              "6000"
            ]
          },
          "metadata": {
            "tags": []
          },
          "execution_count": 4
        }
      ]
    },
    {
      "cell_type": "code",
      "metadata": {
        "id": "9WVVsjzPb2jK"
      },
      "source": [
        "#Loading the HMP feature\n",
        "\n",
        "def read_HMP(fname):\n",
        "    \"\"\"Scan HMP(Histogram of Motion Patterns) features from file\"\"\"\n",
        "    vn = []\n",
        "    df = pd.DataFrame();\n",
        "    with open(fname) as f:\n",
        "        for line in f:\n",
        "            pairs=line.split()\n",
        "            vn.append(pairs[0])\n",
        "            HMP_temp = { int(p.split(':')[0]) : float(p.split(':')[1]) for p in pairs}\n",
        "            df['video']=vn\n",
        "    # there are 6075 bins, fill zeros\n",
        "   \n",
        "    HMP = np.zeros(6075)\n",
        "    for idx in HMP_temp.keys():\n",
        "        HMP[idx-1] = HMP_temp[idx]            \n",
        "    return HMP\n",
        "\n",
        "\n",
        "#Extracting the videos into a dataframe\n",
        "\n",
        "HMP_extract=pd.DataFrame()\n",
        "for root, dirs, files in os.walk(\"/content/drive/My Drive/HMP\"):\n",
        "  pass\n",
        "lst=[]\n",
        "for i in range(0,8000):\n",
        "  value='video'+str(i)+'.txt'\n",
        "  if value in files:\n",
        "    txt=read_HMP(\"/content/drive/My Drive/HMP/\"+value)\n",
        "    HMP_extract=HMP_extract.append([txt],ignore_index=True)\n",
        "    lst.append('video'+str(i))\n",
        "HMP_extract['Video']=lst"
      ],
      "execution_count": 6,
      "outputs": []
    },
    {
      "cell_type": "code",
      "metadata": {
        "colab": {
          "base_uri": "https://localhost:8080/",
          "height": 244
        },
        "id": "FFYFegqXb2mW",
        "outputId": "b16b3269-db4e-4128-8fcb-5f95d422c1bf"
      },
      "source": [
        "#Showing the HMP_extract \n",
        "HMP_extract.head(5)"
      ],
      "execution_count": 7,
      "outputs": [
        {
          "output_type": "execute_result",
          "data": {
            "text/html": [
              "<div>\n",
              "<style scoped>\n",
              "    .dataframe tbody tr th:only-of-type {\n",
              "        vertical-align: middle;\n",
              "    }\n",
              "\n",
              "    .dataframe tbody tr th {\n",
              "        vertical-align: top;\n",
              "    }\n",
              "\n",
              "    .dataframe thead th {\n",
              "        text-align: right;\n",
              "    }\n",
              "</style>\n",
              "<table border=\"1\" class=\"dataframe\">\n",
              "  <thead>\n",
              "    <tr style=\"text-align: right;\">\n",
              "      <th></th>\n",
              "      <th>0</th>\n",
              "      <th>1</th>\n",
              "      <th>2</th>\n",
              "      <th>3</th>\n",
              "      <th>4</th>\n",
              "      <th>5</th>\n",
              "      <th>6</th>\n",
              "      <th>7</th>\n",
              "      <th>8</th>\n",
              "      <th>9</th>\n",
              "      <th>10</th>\n",
              "      <th>11</th>\n",
              "      <th>12</th>\n",
              "      <th>13</th>\n",
              "      <th>14</th>\n",
              "      <th>15</th>\n",
              "      <th>16</th>\n",
              "      <th>17</th>\n",
              "      <th>18</th>\n",
              "      <th>19</th>\n",
              "      <th>20</th>\n",
              "      <th>21</th>\n",
              "      <th>22</th>\n",
              "      <th>23</th>\n",
              "      <th>24</th>\n",
              "      <th>25</th>\n",
              "      <th>26</th>\n",
              "      <th>27</th>\n",
              "      <th>28</th>\n",
              "      <th>29</th>\n",
              "      <th>30</th>\n",
              "      <th>31</th>\n",
              "      <th>32</th>\n",
              "      <th>33</th>\n",
              "      <th>34</th>\n",
              "      <th>35</th>\n",
              "      <th>36</th>\n",
              "      <th>37</th>\n",
              "      <th>38</th>\n",
              "      <th>39</th>\n",
              "      <th>...</th>\n",
              "      <th>6036</th>\n",
              "      <th>6037</th>\n",
              "      <th>6038</th>\n",
              "      <th>6039</th>\n",
              "      <th>6040</th>\n",
              "      <th>6041</th>\n",
              "      <th>6042</th>\n",
              "      <th>6043</th>\n",
              "      <th>6044</th>\n",
              "      <th>6045</th>\n",
              "      <th>6046</th>\n",
              "      <th>6047</th>\n",
              "      <th>6048</th>\n",
              "      <th>6049</th>\n",
              "      <th>6050</th>\n",
              "      <th>6051</th>\n",
              "      <th>6052</th>\n",
              "      <th>6053</th>\n",
              "      <th>6054</th>\n",
              "      <th>6055</th>\n",
              "      <th>6056</th>\n",
              "      <th>6057</th>\n",
              "      <th>6058</th>\n",
              "      <th>6059</th>\n",
              "      <th>6060</th>\n",
              "      <th>6061</th>\n",
              "      <th>6062</th>\n",
              "      <th>6063</th>\n",
              "      <th>6064</th>\n",
              "      <th>6065</th>\n",
              "      <th>6066</th>\n",
              "      <th>6067</th>\n",
              "      <th>6068</th>\n",
              "      <th>6069</th>\n",
              "      <th>6070</th>\n",
              "      <th>6071</th>\n",
              "      <th>6072</th>\n",
              "      <th>6073</th>\n",
              "      <th>6074</th>\n",
              "      <th>Video</th>\n",
              "    </tr>\n",
              "  </thead>\n",
              "  <tbody>\n",
              "    <tr>\n",
              "      <th>0</th>\n",
              "      <td>0.125563</td>\n",
              "      <td>0.024036</td>\n",
              "      <td>0.000314</td>\n",
              "      <td>0.0</td>\n",
              "      <td>0.015864</td>\n",
              "      <td>0.000358</td>\n",
              "      <td>0.0</td>\n",
              "      <td>0.000000</td>\n",
              "      <td>0.000086</td>\n",
              "      <td>0.0</td>\n",
              "      <td>0.0</td>\n",
              "      <td>0.0</td>\n",
              "      <td>0.0</td>\n",
              "      <td>0.002795</td>\n",
              "      <td>0.000054</td>\n",
              "      <td>0.0</td>\n",
              "      <td>0.000000</td>\n",
              "      <td>0.000037</td>\n",
              "      <td>0.0</td>\n",
              "      <td>0.0</td>\n",
              "      <td>0.0</td>\n",
              "      <td>0.0</td>\n",
              "      <td>0.0</td>\n",
              "      <td>0.0</td>\n",
              "      <td>0.0</td>\n",
              "      <td>0.0</td>\n",
              "      <td>0.000005</td>\n",
              "      <td>0.0</td>\n",
              "      <td>0.0</td>\n",
              "      <td>0.0</td>\n",
              "      <td>0.0</td>\n",
              "      <td>0.0</td>\n",
              "      <td>0.0</td>\n",
              "      <td>0.0</td>\n",
              "      <td>0.0</td>\n",
              "      <td>0.0</td>\n",
              "      <td>0.0</td>\n",
              "      <td>0.0</td>\n",
              "      <td>0.0</td>\n",
              "      <td>0.0</td>\n",
              "      <td>...</td>\n",
              "      <td>0.000173</td>\n",
              "      <td>0.000459</td>\n",
              "      <td>0.000000</td>\n",
              "      <td>0.000148</td>\n",
              "      <td>0.000104</td>\n",
              "      <td>0.000000</td>\n",
              "      <td>0.000121</td>\n",
              "      <td>0.000551</td>\n",
              "      <td>0.000000</td>\n",
              "      <td>0.000114</td>\n",
              "      <td>0.000884</td>\n",
              "      <td>0.000002</td>\n",
              "      <td>0.000116</td>\n",
              "      <td>0.000077</td>\n",
              "      <td>0.000002</td>\n",
              "      <td>0.000027</td>\n",
              "      <td>0.000136</td>\n",
              "      <td>0.000000</td>\n",
              "      <td>0.000000</td>\n",
              "      <td>0.000002</td>\n",
              "      <td>0.000000</td>\n",
              "      <td>0.000091</td>\n",
              "      <td>0.000035</td>\n",
              "      <td>0.000000</td>\n",
              "      <td>0.000163</td>\n",
              "      <td>0.000467</td>\n",
              "      <td>0.000002</td>\n",
              "      <td>0.000010</td>\n",
              "      <td>0.000017</td>\n",
              "      <td>0.000000</td>\n",
              "      <td>0.000393</td>\n",
              "      <td>0.000279</td>\n",
              "      <td>0.000000</td>\n",
              "      <td>0.000289</td>\n",
              "      <td>0.001926</td>\n",
              "      <td>0.000000</td>\n",
              "      <td>0.000086</td>\n",
              "      <td>0.000580</td>\n",
              "      <td>0.000000</td>\n",
              "      <td>video3</td>\n",
              "    </tr>\n",
              "    <tr>\n",
              "      <th>1</th>\n",
              "      <td>0.007526</td>\n",
              "      <td>0.001421</td>\n",
              "      <td>0.000068</td>\n",
              "      <td>0.0</td>\n",
              "      <td>0.001184</td>\n",
              "      <td>0.000143</td>\n",
              "      <td>0.0</td>\n",
              "      <td>0.000000</td>\n",
              "      <td>0.000079</td>\n",
              "      <td>0.0</td>\n",
              "      <td>0.0</td>\n",
              "      <td>0.0</td>\n",
              "      <td>0.0</td>\n",
              "      <td>0.000246</td>\n",
              "      <td>0.000024</td>\n",
              "      <td>0.0</td>\n",
              "      <td>0.000000</td>\n",
              "      <td>0.000042</td>\n",
              "      <td>0.0</td>\n",
              "      <td>0.0</td>\n",
              "      <td>0.0</td>\n",
              "      <td>0.0</td>\n",
              "      <td>0.0</td>\n",
              "      <td>0.0</td>\n",
              "      <td>0.0</td>\n",
              "      <td>0.0</td>\n",
              "      <td>0.000004</td>\n",
              "      <td>0.0</td>\n",
              "      <td>0.0</td>\n",
              "      <td>0.0</td>\n",
              "      <td>0.0</td>\n",
              "      <td>0.0</td>\n",
              "      <td>0.0</td>\n",
              "      <td>0.0</td>\n",
              "      <td>0.0</td>\n",
              "      <td>0.0</td>\n",
              "      <td>0.0</td>\n",
              "      <td>0.0</td>\n",
              "      <td>0.0</td>\n",
              "      <td>0.0</td>\n",
              "      <td>...</td>\n",
              "      <td>0.000308</td>\n",
              "      <td>0.001054</td>\n",
              "      <td>0.000751</td>\n",
              "      <td>0.000176</td>\n",
              "      <td>0.000062</td>\n",
              "      <td>0.000000</td>\n",
              "      <td>0.000123</td>\n",
              "      <td>0.000398</td>\n",
              "      <td>0.000086</td>\n",
              "      <td>0.000246</td>\n",
              "      <td>0.000433</td>\n",
              "      <td>0.000446</td>\n",
              "      <td>0.000143</td>\n",
              "      <td>0.000053</td>\n",
              "      <td>0.000000</td>\n",
              "      <td>0.000053</td>\n",
              "      <td>0.000099</td>\n",
              "      <td>0.000009</td>\n",
              "      <td>0.000004</td>\n",
              "      <td>0.000033</td>\n",
              "      <td>0.000004</td>\n",
              "      <td>0.000051</td>\n",
              "      <td>0.000035</td>\n",
              "      <td>0.000000</td>\n",
              "      <td>0.000062</td>\n",
              "      <td>0.000358</td>\n",
              "      <td>0.000035</td>\n",
              "      <td>0.000024</td>\n",
              "      <td>0.000083</td>\n",
              "      <td>0.000053</td>\n",
              "      <td>0.000244</td>\n",
              "      <td>0.000066</td>\n",
              "      <td>0.000000</td>\n",
              "      <td>0.000081</td>\n",
              "      <td>0.000617</td>\n",
              "      <td>0.000094</td>\n",
              "      <td>0.000220</td>\n",
              "      <td>0.000762</td>\n",
              "      <td>0.001224</td>\n",
              "      <td>video4</td>\n",
              "    </tr>\n",
              "    <tr>\n",
              "      <th>2</th>\n",
              "      <td>0.109584</td>\n",
              "      <td>0.018978</td>\n",
              "      <td>0.000289</td>\n",
              "      <td>0.0</td>\n",
              "      <td>0.008774</td>\n",
              "      <td>0.000208</td>\n",
              "      <td>0.0</td>\n",
              "      <td>0.000002</td>\n",
              "      <td>0.000088</td>\n",
              "      <td>0.0</td>\n",
              "      <td>0.0</td>\n",
              "      <td>0.0</td>\n",
              "      <td>0.0</td>\n",
              "      <td>0.002046</td>\n",
              "      <td>0.000061</td>\n",
              "      <td>0.0</td>\n",
              "      <td>0.000000</td>\n",
              "      <td>0.000038</td>\n",
              "      <td>0.0</td>\n",
              "      <td>0.0</td>\n",
              "      <td>0.0</td>\n",
              "      <td>0.0</td>\n",
              "      <td>0.0</td>\n",
              "      <td>0.0</td>\n",
              "      <td>0.0</td>\n",
              "      <td>0.0</td>\n",
              "      <td>0.000002</td>\n",
              "      <td>0.0</td>\n",
              "      <td>0.0</td>\n",
              "      <td>0.0</td>\n",
              "      <td>0.0</td>\n",
              "      <td>0.0</td>\n",
              "      <td>0.0</td>\n",
              "      <td>0.0</td>\n",
              "      <td>0.0</td>\n",
              "      <td>0.0</td>\n",
              "      <td>0.0</td>\n",
              "      <td>0.0</td>\n",
              "      <td>0.0</td>\n",
              "      <td>0.0</td>\n",
              "      <td>...</td>\n",
              "      <td>0.000057</td>\n",
              "      <td>0.000158</td>\n",
              "      <td>0.000073</td>\n",
              "      <td>0.000021</td>\n",
              "      <td>0.000009</td>\n",
              "      <td>0.000002</td>\n",
              "      <td>0.000019</td>\n",
              "      <td>0.000095</td>\n",
              "      <td>0.000021</td>\n",
              "      <td>0.000019</td>\n",
              "      <td>0.000090</td>\n",
              "      <td>0.000073</td>\n",
              "      <td>0.000050</td>\n",
              "      <td>0.000024</td>\n",
              "      <td>0.000000</td>\n",
              "      <td>0.000012</td>\n",
              "      <td>0.000021</td>\n",
              "      <td>0.000000</td>\n",
              "      <td>0.000000</td>\n",
              "      <td>0.000002</td>\n",
              "      <td>0.000000</td>\n",
              "      <td>0.000017</td>\n",
              "      <td>0.000007</td>\n",
              "      <td>0.000002</td>\n",
              "      <td>0.000066</td>\n",
              "      <td>0.000203</td>\n",
              "      <td>0.000026</td>\n",
              "      <td>0.000002</td>\n",
              "      <td>0.000040</td>\n",
              "      <td>0.000007</td>\n",
              "      <td>0.000054</td>\n",
              "      <td>0.000045</td>\n",
              "      <td>0.000000</td>\n",
              "      <td>0.000028</td>\n",
              "      <td>0.000291</td>\n",
              "      <td>0.000033</td>\n",
              "      <td>0.000052</td>\n",
              "      <td>0.000258</td>\n",
              "      <td>0.000215</td>\n",
              "      <td>video6</td>\n",
              "    </tr>\n",
              "    <tr>\n",
              "      <th>3</th>\n",
              "      <td>0.120431</td>\n",
              "      <td>0.013561</td>\n",
              "      <td>0.000277</td>\n",
              "      <td>0.0</td>\n",
              "      <td>0.018974</td>\n",
              "      <td>0.000913</td>\n",
              "      <td>0.0</td>\n",
              "      <td>0.000024</td>\n",
              "      <td>0.000713</td>\n",
              "      <td>0.0</td>\n",
              "      <td>0.0</td>\n",
              "      <td>0.0</td>\n",
              "      <td>0.0</td>\n",
              "      <td>0.002496</td>\n",
              "      <td>0.000149</td>\n",
              "      <td>0.0</td>\n",
              "      <td>0.000011</td>\n",
              "      <td>0.000157</td>\n",
              "      <td>0.0</td>\n",
              "      <td>0.0</td>\n",
              "      <td>0.0</td>\n",
              "      <td>0.0</td>\n",
              "      <td>0.0</td>\n",
              "      <td>0.0</td>\n",
              "      <td>0.0</td>\n",
              "      <td>0.0</td>\n",
              "      <td>0.000005</td>\n",
              "      <td>0.0</td>\n",
              "      <td>0.0</td>\n",
              "      <td>0.0</td>\n",
              "      <td>0.0</td>\n",
              "      <td>0.0</td>\n",
              "      <td>0.0</td>\n",
              "      <td>0.0</td>\n",
              "      <td>0.0</td>\n",
              "      <td>0.0</td>\n",
              "      <td>0.0</td>\n",
              "      <td>0.0</td>\n",
              "      <td>0.0</td>\n",
              "      <td>0.0</td>\n",
              "      <td>...</td>\n",
              "      <td>0.000434</td>\n",
              "      <td>0.000543</td>\n",
              "      <td>0.000412</td>\n",
              "      <td>0.000412</td>\n",
              "      <td>0.000045</td>\n",
              "      <td>0.000003</td>\n",
              "      <td>0.000144</td>\n",
              "      <td>0.000282</td>\n",
              "      <td>0.000037</td>\n",
              "      <td>0.000197</td>\n",
              "      <td>0.000218</td>\n",
              "      <td>0.000157</td>\n",
              "      <td>0.000237</td>\n",
              "      <td>0.000021</td>\n",
              "      <td>0.000000</td>\n",
              "      <td>0.000040</td>\n",
              "      <td>0.000056</td>\n",
              "      <td>0.000008</td>\n",
              "      <td>0.000005</td>\n",
              "      <td>0.000013</td>\n",
              "      <td>0.000019</td>\n",
              "      <td>0.000168</td>\n",
              "      <td>0.000013</td>\n",
              "      <td>0.000000</td>\n",
              "      <td>0.000133</td>\n",
              "      <td>0.000202</td>\n",
              "      <td>0.000029</td>\n",
              "      <td>0.000029</td>\n",
              "      <td>0.000035</td>\n",
              "      <td>0.000059</td>\n",
              "      <td>0.001110</td>\n",
              "      <td>0.000075</td>\n",
              "      <td>0.000008</td>\n",
              "      <td>0.000333</td>\n",
              "      <td>0.000793</td>\n",
              "      <td>0.000101</td>\n",
              "      <td>0.000588</td>\n",
              "      <td>0.000503</td>\n",
              "      <td>0.000452</td>\n",
              "      <td>video8</td>\n",
              "    </tr>\n",
              "    <tr>\n",
              "      <th>4</th>\n",
              "      <td>0.005026</td>\n",
              "      <td>0.001356</td>\n",
              "      <td>0.000055</td>\n",
              "      <td>0.0</td>\n",
              "      <td>0.000665</td>\n",
              "      <td>0.000029</td>\n",
              "      <td>0.0</td>\n",
              "      <td>0.000000</td>\n",
              "      <td>0.000024</td>\n",
              "      <td>0.0</td>\n",
              "      <td>0.0</td>\n",
              "      <td>0.0</td>\n",
              "      <td>0.0</td>\n",
              "      <td>0.000147</td>\n",
              "      <td>0.000020</td>\n",
              "      <td>0.0</td>\n",
              "      <td>0.000000</td>\n",
              "      <td>0.000000</td>\n",
              "      <td>0.0</td>\n",
              "      <td>0.0</td>\n",
              "      <td>0.0</td>\n",
              "      <td>0.0</td>\n",
              "      <td>0.0</td>\n",
              "      <td>0.0</td>\n",
              "      <td>0.0</td>\n",
              "      <td>0.0</td>\n",
              "      <td>0.000000</td>\n",
              "      <td>0.0</td>\n",
              "      <td>0.0</td>\n",
              "      <td>0.0</td>\n",
              "      <td>0.0</td>\n",
              "      <td>0.0</td>\n",
              "      <td>0.0</td>\n",
              "      <td>0.0</td>\n",
              "      <td>0.0</td>\n",
              "      <td>0.0</td>\n",
              "      <td>0.0</td>\n",
              "      <td>0.0</td>\n",
              "      <td>0.0</td>\n",
              "      <td>0.0</td>\n",
              "      <td>...</td>\n",
              "      <td>0.000996</td>\n",
              "      <td>0.001604</td>\n",
              "      <td>0.000103</td>\n",
              "      <td>0.000768</td>\n",
              "      <td>0.000215</td>\n",
              "      <td>0.000009</td>\n",
              "      <td>0.000415</td>\n",
              "      <td>0.000926</td>\n",
              "      <td>0.000020</td>\n",
              "      <td>0.000538</td>\n",
              "      <td>0.001178</td>\n",
              "      <td>0.000050</td>\n",
              "      <td>0.000518</td>\n",
              "      <td>0.000169</td>\n",
              "      <td>0.000007</td>\n",
              "      <td>0.000134</td>\n",
              "      <td>0.000169</td>\n",
              "      <td>0.000007</td>\n",
              "      <td>0.000026</td>\n",
              "      <td>0.000046</td>\n",
              "      <td>0.000007</td>\n",
              "      <td>0.000373</td>\n",
              "      <td>0.000088</td>\n",
              "      <td>0.000000</td>\n",
              "      <td>0.000338</td>\n",
              "      <td>0.000441</td>\n",
              "      <td>0.000029</td>\n",
              "      <td>0.000070</td>\n",
              "      <td>0.000149</td>\n",
              "      <td>0.000009</td>\n",
              "      <td>0.000882</td>\n",
              "      <td>0.000200</td>\n",
              "      <td>0.000009</td>\n",
              "      <td>0.000559</td>\n",
              "      <td>0.001097</td>\n",
              "      <td>0.000018</td>\n",
              "      <td>0.000632</td>\n",
              "      <td>0.001128</td>\n",
              "      <td>0.000064</td>\n",
              "      <td>video10</td>\n",
              "    </tr>\n",
              "  </tbody>\n",
              "</table>\n",
              "<p>5 rows × 6076 columns</p>\n",
              "</div>"
            ],
            "text/plain": [
              "          0         1         2    3  ...      6072      6073      6074    Video\n",
              "0  0.125563  0.024036  0.000314  0.0  ...  0.000086  0.000580  0.000000   video3\n",
              "1  0.007526  0.001421  0.000068  0.0  ...  0.000220  0.000762  0.001224   video4\n",
              "2  0.109584  0.018978  0.000289  0.0  ...  0.000052  0.000258  0.000215   video6\n",
              "3  0.120431  0.013561  0.000277  0.0  ...  0.000588  0.000503  0.000452   video8\n",
              "4  0.005026  0.001356  0.000055  0.0  ...  0.000632  0.001128  0.000064  video10\n",
              "\n",
              "[5 rows x 6076 columns]"
            ]
          },
          "metadata": {
            "tags": []
          },
          "execution_count": 7
        }
      ]
    },
    {
      "cell_type": "code",
      "metadata": {
        "id": "QpS8dtEMtwmL"
      },
      "source": [
        "# Exporting the dataframe into a csv\n",
        "\n",
        "HMP_extract.to_csv('HMP_features_train.csv')"
      ],
      "execution_count": 8,
      "outputs": []
    },
    {
      "cell_type": "markdown",
      "metadata": {
        "id": "falrRcpe4i4F"
      },
      "source": [
        "###**Importing the Ground Truth for Test Videos**\n",
        "\n",
        "*6000 videos with the actual ground-truth values of short-term memoribility and long-term memoribility* "
      ]
    },
    {
      "cell_type": "code",
      "metadata": {
        "colab": {
          "base_uri": "https://localhost:8080/",
          "height": 195
        },
        "id": "TtlFrzQsits0",
        "outputId": "8d63baf1-a2cc-4eee-c4c0-1d4852470b5c"
      },
      "source": [
        "#Reading the csv\n",
        "\n",
        "ground_truth = pd.read_csv('./ground-truth.csv')\n",
        "ground_truth.head(5)"
      ],
      "execution_count": 14,
      "outputs": [
        {
          "output_type": "execute_result",
          "data": {
            "text/html": [
              "<div>\n",
              "<style scoped>\n",
              "    .dataframe tbody tr th:only-of-type {\n",
              "        vertical-align: middle;\n",
              "    }\n",
              "\n",
              "    .dataframe tbody tr th {\n",
              "        vertical-align: top;\n",
              "    }\n",
              "\n",
              "    .dataframe thead th {\n",
              "        text-align: right;\n",
              "    }\n",
              "</style>\n",
              "<table border=\"1\" class=\"dataframe\">\n",
              "  <thead>\n",
              "    <tr style=\"text-align: right;\">\n",
              "      <th></th>\n",
              "      <th>video</th>\n",
              "      <th>short-term_memorability</th>\n",
              "      <th>nb_short-term_annotations</th>\n",
              "      <th>long-term_memorability</th>\n",
              "      <th>nb_long-term_annotations</th>\n",
              "    </tr>\n",
              "  </thead>\n",
              "  <tbody>\n",
              "    <tr>\n",
              "      <th>0</th>\n",
              "      <td>video3.webm</td>\n",
              "      <td>0.924</td>\n",
              "      <td>34</td>\n",
              "      <td>0.846</td>\n",
              "      <td>13</td>\n",
              "    </tr>\n",
              "    <tr>\n",
              "      <th>1</th>\n",
              "      <td>video4.webm</td>\n",
              "      <td>0.923</td>\n",
              "      <td>33</td>\n",
              "      <td>0.667</td>\n",
              "      <td>12</td>\n",
              "    </tr>\n",
              "    <tr>\n",
              "      <th>2</th>\n",
              "      <td>video6.webm</td>\n",
              "      <td>0.863</td>\n",
              "      <td>33</td>\n",
              "      <td>0.700</td>\n",
              "      <td>10</td>\n",
              "    </tr>\n",
              "    <tr>\n",
              "      <th>3</th>\n",
              "      <td>video8.webm</td>\n",
              "      <td>0.922</td>\n",
              "      <td>33</td>\n",
              "      <td>0.818</td>\n",
              "      <td>11</td>\n",
              "    </tr>\n",
              "    <tr>\n",
              "      <th>4</th>\n",
              "      <td>video10.webm</td>\n",
              "      <td>0.950</td>\n",
              "      <td>34</td>\n",
              "      <td>0.900</td>\n",
              "      <td>10</td>\n",
              "    </tr>\n",
              "  </tbody>\n",
              "</table>\n",
              "</div>"
            ],
            "text/plain": [
              "          video  ...  nb_long-term_annotations\n",
              "0   video3.webm  ...                        13\n",
              "1   video4.webm  ...                        12\n",
              "2   video6.webm  ...                        10\n",
              "3   video8.webm  ...                        11\n",
              "4  video10.webm  ...                        10\n",
              "\n",
              "[5 rows x 5 columns]"
            ]
          },
          "metadata": {
            "tags": []
          },
          "execution_count": 14
        }
      ]
    },
    {
      "cell_type": "code",
      "metadata": {
        "colab": {
          "base_uri": "https://localhost:8080/"
        },
        "id": "ws5mCvtIXQjK",
        "outputId": "56821476-f3fb-4e34-9308-2985a5d774dd"
      },
      "source": [
        "#Knowing the datatypes of ground truth values\n",
        "\n",
        "ground_truth.dtypes"
      ],
      "execution_count": 16,
      "outputs": [
        {
          "output_type": "execute_result",
          "data": {
            "text/plain": [
              "video                         object\n",
              "short-term_memorability      float64\n",
              "nb_short-term_annotations      int64\n",
              "long-term_memorability       float64\n",
              "nb_long-term_annotations       int64\n",
              "dtype: object"
            ]
          },
          "metadata": {
            "tags": []
          },
          "execution_count": 16
        }
      ]
    },
    {
      "cell_type": "code",
      "metadata": {
        "id": "WInUlEAKBX59"
      },
      "source": [
        "#Removing .webm from the Video column\n",
        "\n",
        "GT = []\n",
        "for i in range(len(ground_truth['video'])):\n",
        "  video = ground_truth['video'][i]\n",
        "  new = video.replace(\".webm\",\"\")\n",
        "  GT.append(new)  "
      ],
      "execution_count": 17,
      "outputs": []
    },
    {
      "cell_type": "code",
      "metadata": {
        "colab": {
          "base_uri": "https://localhost:8080/",
          "height": 195
        },
        "id": "943MKcqP8q6H",
        "outputId": "04528278-2ae3-4348-dc63-ab826dd8869f"
      },
      "source": [
        "#Replacing GT names in Video column\n",
        "\n",
        "ground_truth['video'] = GT\n",
        "ground_truth.head(5)"
      ],
      "execution_count": 18,
      "outputs": [
        {
          "output_type": "execute_result",
          "data": {
            "text/html": [
              "<div>\n",
              "<style scoped>\n",
              "    .dataframe tbody tr th:only-of-type {\n",
              "        vertical-align: middle;\n",
              "    }\n",
              "\n",
              "    .dataframe tbody tr th {\n",
              "        vertical-align: top;\n",
              "    }\n",
              "\n",
              "    .dataframe thead th {\n",
              "        text-align: right;\n",
              "    }\n",
              "</style>\n",
              "<table border=\"1\" class=\"dataframe\">\n",
              "  <thead>\n",
              "    <tr style=\"text-align: right;\">\n",
              "      <th></th>\n",
              "      <th>video</th>\n",
              "      <th>short-term_memorability</th>\n",
              "      <th>nb_short-term_annotations</th>\n",
              "      <th>long-term_memorability</th>\n",
              "      <th>nb_long-term_annotations</th>\n",
              "    </tr>\n",
              "  </thead>\n",
              "  <tbody>\n",
              "    <tr>\n",
              "      <th>0</th>\n",
              "      <td>video3</td>\n",
              "      <td>0.924</td>\n",
              "      <td>34</td>\n",
              "      <td>0.846</td>\n",
              "      <td>13</td>\n",
              "    </tr>\n",
              "    <tr>\n",
              "      <th>1</th>\n",
              "      <td>video4</td>\n",
              "      <td>0.923</td>\n",
              "      <td>33</td>\n",
              "      <td>0.667</td>\n",
              "      <td>12</td>\n",
              "    </tr>\n",
              "    <tr>\n",
              "      <th>2</th>\n",
              "      <td>video6</td>\n",
              "      <td>0.863</td>\n",
              "      <td>33</td>\n",
              "      <td>0.700</td>\n",
              "      <td>10</td>\n",
              "    </tr>\n",
              "    <tr>\n",
              "      <th>3</th>\n",
              "      <td>video8</td>\n",
              "      <td>0.922</td>\n",
              "      <td>33</td>\n",
              "      <td>0.818</td>\n",
              "      <td>11</td>\n",
              "    </tr>\n",
              "    <tr>\n",
              "      <th>4</th>\n",
              "      <td>video10</td>\n",
              "      <td>0.950</td>\n",
              "      <td>34</td>\n",
              "      <td>0.900</td>\n",
              "      <td>10</td>\n",
              "    </tr>\n",
              "  </tbody>\n",
              "</table>\n",
              "</div>"
            ],
            "text/plain": [
              "     video  ...  nb_long-term_annotations\n",
              "0   video3  ...                        13\n",
              "1   video4  ...                        12\n",
              "2   video6  ...                        10\n",
              "3   video8  ...                        11\n",
              "4  video10  ...                        10\n",
              "\n",
              "[5 rows x 5 columns]"
            ]
          },
          "metadata": {
            "tags": []
          },
          "execution_count": 18
        }
      ]
    },
    {
      "cell_type": "code",
      "metadata": {
        "colab": {
          "base_uri": "https://localhost:8080/",
          "height": 195
        },
        "id": "QSdly-RcEust",
        "outputId": "ed2f9792-3f14-4799-9c39-7c70d0c03d2a"
      },
      "source": [
        "#Changing video to Video\n",
        "\n",
        "ground_truth = ground_truth.rename({'video': 'Video'}, axis='columns')\n",
        "ground_truth.head(5)"
      ],
      "execution_count": 19,
      "outputs": [
        {
          "output_type": "execute_result",
          "data": {
            "text/html": [
              "<div>\n",
              "<style scoped>\n",
              "    .dataframe tbody tr th:only-of-type {\n",
              "        vertical-align: middle;\n",
              "    }\n",
              "\n",
              "    .dataframe tbody tr th {\n",
              "        vertical-align: top;\n",
              "    }\n",
              "\n",
              "    .dataframe thead th {\n",
              "        text-align: right;\n",
              "    }\n",
              "</style>\n",
              "<table border=\"1\" class=\"dataframe\">\n",
              "  <thead>\n",
              "    <tr style=\"text-align: right;\">\n",
              "      <th></th>\n",
              "      <th>Video</th>\n",
              "      <th>short-term_memorability</th>\n",
              "      <th>nb_short-term_annotations</th>\n",
              "      <th>long-term_memorability</th>\n",
              "      <th>nb_long-term_annotations</th>\n",
              "    </tr>\n",
              "  </thead>\n",
              "  <tbody>\n",
              "    <tr>\n",
              "      <th>0</th>\n",
              "      <td>video3</td>\n",
              "      <td>0.924</td>\n",
              "      <td>34</td>\n",
              "      <td>0.846</td>\n",
              "      <td>13</td>\n",
              "    </tr>\n",
              "    <tr>\n",
              "      <th>1</th>\n",
              "      <td>video4</td>\n",
              "      <td>0.923</td>\n",
              "      <td>33</td>\n",
              "      <td>0.667</td>\n",
              "      <td>12</td>\n",
              "    </tr>\n",
              "    <tr>\n",
              "      <th>2</th>\n",
              "      <td>video6</td>\n",
              "      <td>0.863</td>\n",
              "      <td>33</td>\n",
              "      <td>0.700</td>\n",
              "      <td>10</td>\n",
              "    </tr>\n",
              "    <tr>\n",
              "      <th>3</th>\n",
              "      <td>video8</td>\n",
              "      <td>0.922</td>\n",
              "      <td>33</td>\n",
              "      <td>0.818</td>\n",
              "      <td>11</td>\n",
              "    </tr>\n",
              "    <tr>\n",
              "      <th>4</th>\n",
              "      <td>video10</td>\n",
              "      <td>0.950</td>\n",
              "      <td>34</td>\n",
              "      <td>0.900</td>\n",
              "      <td>10</td>\n",
              "    </tr>\n",
              "  </tbody>\n",
              "</table>\n",
              "</div>"
            ],
            "text/plain": [
              "     Video  ...  nb_long-term_annotations\n",
              "0   video3  ...                        13\n",
              "1   video4  ...                        12\n",
              "2   video6  ...                        10\n",
              "3   video8  ...                        11\n",
              "4  video10  ...                        10\n",
              "\n",
              "[5 rows x 5 columns]"
            ]
          },
          "metadata": {
            "tags": []
          },
          "execution_count": 19
        }
      ]
    },
    {
      "cell_type": "markdown",
      "metadata": {
        "id": "72sUvzhKUYuh"
      },
      "source": [
        "# **Combining the Two**\n",
        "\n",
        "*Merging the ground truth values and the extracted HMP feature values* "
      ]
    },
    {
      "cell_type": "code",
      "metadata": {
        "colab": {
          "base_uri": "https://localhost:8080/",
          "height": 261
        },
        "id": "C91u35RfD68F",
        "outputId": "66efecec-40fe-42e4-b4b4-b750901f26dc"
      },
      "source": [
        "#Merging the two files - ground truth, hmp feature videos\n",
        "\n",
        "final = pd.merge(HMP_extract, ground_truth, on=\"Video\")\n",
        "final.head()"
      ],
      "execution_count": 20,
      "outputs": [
        {
          "output_type": "execute_result",
          "data": {
            "text/html": [
              "<div>\n",
              "<style scoped>\n",
              "    .dataframe tbody tr th:only-of-type {\n",
              "        vertical-align: middle;\n",
              "    }\n",
              "\n",
              "    .dataframe tbody tr th {\n",
              "        vertical-align: top;\n",
              "    }\n",
              "\n",
              "    .dataframe thead th {\n",
              "        text-align: right;\n",
              "    }\n",
              "</style>\n",
              "<table border=\"1\" class=\"dataframe\">\n",
              "  <thead>\n",
              "    <tr style=\"text-align: right;\">\n",
              "      <th></th>\n",
              "      <th>0</th>\n",
              "      <th>1</th>\n",
              "      <th>2</th>\n",
              "      <th>3</th>\n",
              "      <th>4</th>\n",
              "      <th>5</th>\n",
              "      <th>6</th>\n",
              "      <th>7</th>\n",
              "      <th>8</th>\n",
              "      <th>9</th>\n",
              "      <th>10</th>\n",
              "      <th>11</th>\n",
              "      <th>12</th>\n",
              "      <th>13</th>\n",
              "      <th>14</th>\n",
              "      <th>15</th>\n",
              "      <th>16</th>\n",
              "      <th>17</th>\n",
              "      <th>18</th>\n",
              "      <th>19</th>\n",
              "      <th>20</th>\n",
              "      <th>21</th>\n",
              "      <th>22</th>\n",
              "      <th>23</th>\n",
              "      <th>24</th>\n",
              "      <th>25</th>\n",
              "      <th>26</th>\n",
              "      <th>27</th>\n",
              "      <th>28</th>\n",
              "      <th>29</th>\n",
              "      <th>30</th>\n",
              "      <th>31</th>\n",
              "      <th>32</th>\n",
              "      <th>33</th>\n",
              "      <th>34</th>\n",
              "      <th>35</th>\n",
              "      <th>36</th>\n",
              "      <th>37</th>\n",
              "      <th>38</th>\n",
              "      <th>39</th>\n",
              "      <th>...</th>\n",
              "      <th>6040</th>\n",
              "      <th>6041</th>\n",
              "      <th>6042</th>\n",
              "      <th>6043</th>\n",
              "      <th>6044</th>\n",
              "      <th>6045</th>\n",
              "      <th>6046</th>\n",
              "      <th>6047</th>\n",
              "      <th>6048</th>\n",
              "      <th>6049</th>\n",
              "      <th>6050</th>\n",
              "      <th>6051</th>\n",
              "      <th>6052</th>\n",
              "      <th>6053</th>\n",
              "      <th>6054</th>\n",
              "      <th>6055</th>\n",
              "      <th>6056</th>\n",
              "      <th>6057</th>\n",
              "      <th>6058</th>\n",
              "      <th>6059</th>\n",
              "      <th>6060</th>\n",
              "      <th>6061</th>\n",
              "      <th>6062</th>\n",
              "      <th>6063</th>\n",
              "      <th>6064</th>\n",
              "      <th>6065</th>\n",
              "      <th>6066</th>\n",
              "      <th>6067</th>\n",
              "      <th>6068</th>\n",
              "      <th>6069</th>\n",
              "      <th>6070</th>\n",
              "      <th>6071</th>\n",
              "      <th>6072</th>\n",
              "      <th>6073</th>\n",
              "      <th>6074</th>\n",
              "      <th>Video</th>\n",
              "      <th>short-term_memorability</th>\n",
              "      <th>nb_short-term_annotations</th>\n",
              "      <th>long-term_memorability</th>\n",
              "      <th>nb_long-term_annotations</th>\n",
              "    </tr>\n",
              "  </thead>\n",
              "  <tbody>\n",
              "    <tr>\n",
              "      <th>0</th>\n",
              "      <td>0.125563</td>\n",
              "      <td>0.024036</td>\n",
              "      <td>0.000314</td>\n",
              "      <td>0.0</td>\n",
              "      <td>0.015864</td>\n",
              "      <td>0.000358</td>\n",
              "      <td>0.0</td>\n",
              "      <td>0.000000</td>\n",
              "      <td>0.000086</td>\n",
              "      <td>0.0</td>\n",
              "      <td>0.0</td>\n",
              "      <td>0.0</td>\n",
              "      <td>0.0</td>\n",
              "      <td>0.002795</td>\n",
              "      <td>0.000054</td>\n",
              "      <td>0.0</td>\n",
              "      <td>0.000000</td>\n",
              "      <td>0.000037</td>\n",
              "      <td>0.0</td>\n",
              "      <td>0.0</td>\n",
              "      <td>0.0</td>\n",
              "      <td>0.0</td>\n",
              "      <td>0.0</td>\n",
              "      <td>0.0</td>\n",
              "      <td>0.0</td>\n",
              "      <td>0.0</td>\n",
              "      <td>0.000005</td>\n",
              "      <td>0.0</td>\n",
              "      <td>0.0</td>\n",
              "      <td>0.0</td>\n",
              "      <td>0.0</td>\n",
              "      <td>0.0</td>\n",
              "      <td>0.0</td>\n",
              "      <td>0.0</td>\n",
              "      <td>0.0</td>\n",
              "      <td>0.0</td>\n",
              "      <td>0.0</td>\n",
              "      <td>0.0</td>\n",
              "      <td>0.0</td>\n",
              "      <td>0.0</td>\n",
              "      <td>...</td>\n",
              "      <td>0.000104</td>\n",
              "      <td>0.000000</td>\n",
              "      <td>0.000121</td>\n",
              "      <td>0.000551</td>\n",
              "      <td>0.000000</td>\n",
              "      <td>0.000114</td>\n",
              "      <td>0.000884</td>\n",
              "      <td>0.000002</td>\n",
              "      <td>0.000116</td>\n",
              "      <td>0.000077</td>\n",
              "      <td>0.000002</td>\n",
              "      <td>0.000027</td>\n",
              "      <td>0.000136</td>\n",
              "      <td>0.000000</td>\n",
              "      <td>0.000000</td>\n",
              "      <td>0.000002</td>\n",
              "      <td>0.000000</td>\n",
              "      <td>0.000091</td>\n",
              "      <td>0.000035</td>\n",
              "      <td>0.000000</td>\n",
              "      <td>0.000163</td>\n",
              "      <td>0.000467</td>\n",
              "      <td>0.000002</td>\n",
              "      <td>0.000010</td>\n",
              "      <td>0.000017</td>\n",
              "      <td>0.000000</td>\n",
              "      <td>0.000393</td>\n",
              "      <td>0.000279</td>\n",
              "      <td>0.000000</td>\n",
              "      <td>0.000289</td>\n",
              "      <td>0.001926</td>\n",
              "      <td>0.000000</td>\n",
              "      <td>0.000086</td>\n",
              "      <td>0.000580</td>\n",
              "      <td>0.000000</td>\n",
              "      <td>video3</td>\n",
              "      <td>0.924</td>\n",
              "      <td>34</td>\n",
              "      <td>0.846</td>\n",
              "      <td>13</td>\n",
              "    </tr>\n",
              "    <tr>\n",
              "      <th>1</th>\n",
              "      <td>0.007526</td>\n",
              "      <td>0.001421</td>\n",
              "      <td>0.000068</td>\n",
              "      <td>0.0</td>\n",
              "      <td>0.001184</td>\n",
              "      <td>0.000143</td>\n",
              "      <td>0.0</td>\n",
              "      <td>0.000000</td>\n",
              "      <td>0.000079</td>\n",
              "      <td>0.0</td>\n",
              "      <td>0.0</td>\n",
              "      <td>0.0</td>\n",
              "      <td>0.0</td>\n",
              "      <td>0.000246</td>\n",
              "      <td>0.000024</td>\n",
              "      <td>0.0</td>\n",
              "      <td>0.000000</td>\n",
              "      <td>0.000042</td>\n",
              "      <td>0.0</td>\n",
              "      <td>0.0</td>\n",
              "      <td>0.0</td>\n",
              "      <td>0.0</td>\n",
              "      <td>0.0</td>\n",
              "      <td>0.0</td>\n",
              "      <td>0.0</td>\n",
              "      <td>0.0</td>\n",
              "      <td>0.000004</td>\n",
              "      <td>0.0</td>\n",
              "      <td>0.0</td>\n",
              "      <td>0.0</td>\n",
              "      <td>0.0</td>\n",
              "      <td>0.0</td>\n",
              "      <td>0.0</td>\n",
              "      <td>0.0</td>\n",
              "      <td>0.0</td>\n",
              "      <td>0.0</td>\n",
              "      <td>0.0</td>\n",
              "      <td>0.0</td>\n",
              "      <td>0.0</td>\n",
              "      <td>0.0</td>\n",
              "      <td>...</td>\n",
              "      <td>0.000062</td>\n",
              "      <td>0.000000</td>\n",
              "      <td>0.000123</td>\n",
              "      <td>0.000398</td>\n",
              "      <td>0.000086</td>\n",
              "      <td>0.000246</td>\n",
              "      <td>0.000433</td>\n",
              "      <td>0.000446</td>\n",
              "      <td>0.000143</td>\n",
              "      <td>0.000053</td>\n",
              "      <td>0.000000</td>\n",
              "      <td>0.000053</td>\n",
              "      <td>0.000099</td>\n",
              "      <td>0.000009</td>\n",
              "      <td>0.000004</td>\n",
              "      <td>0.000033</td>\n",
              "      <td>0.000004</td>\n",
              "      <td>0.000051</td>\n",
              "      <td>0.000035</td>\n",
              "      <td>0.000000</td>\n",
              "      <td>0.000062</td>\n",
              "      <td>0.000358</td>\n",
              "      <td>0.000035</td>\n",
              "      <td>0.000024</td>\n",
              "      <td>0.000083</td>\n",
              "      <td>0.000053</td>\n",
              "      <td>0.000244</td>\n",
              "      <td>0.000066</td>\n",
              "      <td>0.000000</td>\n",
              "      <td>0.000081</td>\n",
              "      <td>0.000617</td>\n",
              "      <td>0.000094</td>\n",
              "      <td>0.000220</td>\n",
              "      <td>0.000762</td>\n",
              "      <td>0.001224</td>\n",
              "      <td>video4</td>\n",
              "      <td>0.923</td>\n",
              "      <td>33</td>\n",
              "      <td>0.667</td>\n",
              "      <td>12</td>\n",
              "    </tr>\n",
              "    <tr>\n",
              "      <th>2</th>\n",
              "      <td>0.109584</td>\n",
              "      <td>0.018978</td>\n",
              "      <td>0.000289</td>\n",
              "      <td>0.0</td>\n",
              "      <td>0.008774</td>\n",
              "      <td>0.000208</td>\n",
              "      <td>0.0</td>\n",
              "      <td>0.000002</td>\n",
              "      <td>0.000088</td>\n",
              "      <td>0.0</td>\n",
              "      <td>0.0</td>\n",
              "      <td>0.0</td>\n",
              "      <td>0.0</td>\n",
              "      <td>0.002046</td>\n",
              "      <td>0.000061</td>\n",
              "      <td>0.0</td>\n",
              "      <td>0.000000</td>\n",
              "      <td>0.000038</td>\n",
              "      <td>0.0</td>\n",
              "      <td>0.0</td>\n",
              "      <td>0.0</td>\n",
              "      <td>0.0</td>\n",
              "      <td>0.0</td>\n",
              "      <td>0.0</td>\n",
              "      <td>0.0</td>\n",
              "      <td>0.0</td>\n",
              "      <td>0.000002</td>\n",
              "      <td>0.0</td>\n",
              "      <td>0.0</td>\n",
              "      <td>0.0</td>\n",
              "      <td>0.0</td>\n",
              "      <td>0.0</td>\n",
              "      <td>0.0</td>\n",
              "      <td>0.0</td>\n",
              "      <td>0.0</td>\n",
              "      <td>0.0</td>\n",
              "      <td>0.0</td>\n",
              "      <td>0.0</td>\n",
              "      <td>0.0</td>\n",
              "      <td>0.0</td>\n",
              "      <td>...</td>\n",
              "      <td>0.000009</td>\n",
              "      <td>0.000002</td>\n",
              "      <td>0.000019</td>\n",
              "      <td>0.000095</td>\n",
              "      <td>0.000021</td>\n",
              "      <td>0.000019</td>\n",
              "      <td>0.000090</td>\n",
              "      <td>0.000073</td>\n",
              "      <td>0.000050</td>\n",
              "      <td>0.000024</td>\n",
              "      <td>0.000000</td>\n",
              "      <td>0.000012</td>\n",
              "      <td>0.000021</td>\n",
              "      <td>0.000000</td>\n",
              "      <td>0.000000</td>\n",
              "      <td>0.000002</td>\n",
              "      <td>0.000000</td>\n",
              "      <td>0.000017</td>\n",
              "      <td>0.000007</td>\n",
              "      <td>0.000002</td>\n",
              "      <td>0.000066</td>\n",
              "      <td>0.000203</td>\n",
              "      <td>0.000026</td>\n",
              "      <td>0.000002</td>\n",
              "      <td>0.000040</td>\n",
              "      <td>0.000007</td>\n",
              "      <td>0.000054</td>\n",
              "      <td>0.000045</td>\n",
              "      <td>0.000000</td>\n",
              "      <td>0.000028</td>\n",
              "      <td>0.000291</td>\n",
              "      <td>0.000033</td>\n",
              "      <td>0.000052</td>\n",
              "      <td>0.000258</td>\n",
              "      <td>0.000215</td>\n",
              "      <td>video6</td>\n",
              "      <td>0.863</td>\n",
              "      <td>33</td>\n",
              "      <td>0.700</td>\n",
              "      <td>10</td>\n",
              "    </tr>\n",
              "    <tr>\n",
              "      <th>3</th>\n",
              "      <td>0.120431</td>\n",
              "      <td>0.013561</td>\n",
              "      <td>0.000277</td>\n",
              "      <td>0.0</td>\n",
              "      <td>0.018974</td>\n",
              "      <td>0.000913</td>\n",
              "      <td>0.0</td>\n",
              "      <td>0.000024</td>\n",
              "      <td>0.000713</td>\n",
              "      <td>0.0</td>\n",
              "      <td>0.0</td>\n",
              "      <td>0.0</td>\n",
              "      <td>0.0</td>\n",
              "      <td>0.002496</td>\n",
              "      <td>0.000149</td>\n",
              "      <td>0.0</td>\n",
              "      <td>0.000011</td>\n",
              "      <td>0.000157</td>\n",
              "      <td>0.0</td>\n",
              "      <td>0.0</td>\n",
              "      <td>0.0</td>\n",
              "      <td>0.0</td>\n",
              "      <td>0.0</td>\n",
              "      <td>0.0</td>\n",
              "      <td>0.0</td>\n",
              "      <td>0.0</td>\n",
              "      <td>0.000005</td>\n",
              "      <td>0.0</td>\n",
              "      <td>0.0</td>\n",
              "      <td>0.0</td>\n",
              "      <td>0.0</td>\n",
              "      <td>0.0</td>\n",
              "      <td>0.0</td>\n",
              "      <td>0.0</td>\n",
              "      <td>0.0</td>\n",
              "      <td>0.0</td>\n",
              "      <td>0.0</td>\n",
              "      <td>0.0</td>\n",
              "      <td>0.0</td>\n",
              "      <td>0.0</td>\n",
              "      <td>...</td>\n",
              "      <td>0.000045</td>\n",
              "      <td>0.000003</td>\n",
              "      <td>0.000144</td>\n",
              "      <td>0.000282</td>\n",
              "      <td>0.000037</td>\n",
              "      <td>0.000197</td>\n",
              "      <td>0.000218</td>\n",
              "      <td>0.000157</td>\n",
              "      <td>0.000237</td>\n",
              "      <td>0.000021</td>\n",
              "      <td>0.000000</td>\n",
              "      <td>0.000040</td>\n",
              "      <td>0.000056</td>\n",
              "      <td>0.000008</td>\n",
              "      <td>0.000005</td>\n",
              "      <td>0.000013</td>\n",
              "      <td>0.000019</td>\n",
              "      <td>0.000168</td>\n",
              "      <td>0.000013</td>\n",
              "      <td>0.000000</td>\n",
              "      <td>0.000133</td>\n",
              "      <td>0.000202</td>\n",
              "      <td>0.000029</td>\n",
              "      <td>0.000029</td>\n",
              "      <td>0.000035</td>\n",
              "      <td>0.000059</td>\n",
              "      <td>0.001110</td>\n",
              "      <td>0.000075</td>\n",
              "      <td>0.000008</td>\n",
              "      <td>0.000333</td>\n",
              "      <td>0.000793</td>\n",
              "      <td>0.000101</td>\n",
              "      <td>0.000588</td>\n",
              "      <td>0.000503</td>\n",
              "      <td>0.000452</td>\n",
              "      <td>video8</td>\n",
              "      <td>0.922</td>\n",
              "      <td>33</td>\n",
              "      <td>0.818</td>\n",
              "      <td>11</td>\n",
              "    </tr>\n",
              "    <tr>\n",
              "      <th>4</th>\n",
              "      <td>0.005026</td>\n",
              "      <td>0.001356</td>\n",
              "      <td>0.000055</td>\n",
              "      <td>0.0</td>\n",
              "      <td>0.000665</td>\n",
              "      <td>0.000029</td>\n",
              "      <td>0.0</td>\n",
              "      <td>0.000000</td>\n",
              "      <td>0.000024</td>\n",
              "      <td>0.0</td>\n",
              "      <td>0.0</td>\n",
              "      <td>0.0</td>\n",
              "      <td>0.0</td>\n",
              "      <td>0.000147</td>\n",
              "      <td>0.000020</td>\n",
              "      <td>0.0</td>\n",
              "      <td>0.000000</td>\n",
              "      <td>0.000000</td>\n",
              "      <td>0.0</td>\n",
              "      <td>0.0</td>\n",
              "      <td>0.0</td>\n",
              "      <td>0.0</td>\n",
              "      <td>0.0</td>\n",
              "      <td>0.0</td>\n",
              "      <td>0.0</td>\n",
              "      <td>0.0</td>\n",
              "      <td>0.000000</td>\n",
              "      <td>0.0</td>\n",
              "      <td>0.0</td>\n",
              "      <td>0.0</td>\n",
              "      <td>0.0</td>\n",
              "      <td>0.0</td>\n",
              "      <td>0.0</td>\n",
              "      <td>0.0</td>\n",
              "      <td>0.0</td>\n",
              "      <td>0.0</td>\n",
              "      <td>0.0</td>\n",
              "      <td>0.0</td>\n",
              "      <td>0.0</td>\n",
              "      <td>0.0</td>\n",
              "      <td>...</td>\n",
              "      <td>0.000215</td>\n",
              "      <td>0.000009</td>\n",
              "      <td>0.000415</td>\n",
              "      <td>0.000926</td>\n",
              "      <td>0.000020</td>\n",
              "      <td>0.000538</td>\n",
              "      <td>0.001178</td>\n",
              "      <td>0.000050</td>\n",
              "      <td>0.000518</td>\n",
              "      <td>0.000169</td>\n",
              "      <td>0.000007</td>\n",
              "      <td>0.000134</td>\n",
              "      <td>0.000169</td>\n",
              "      <td>0.000007</td>\n",
              "      <td>0.000026</td>\n",
              "      <td>0.000046</td>\n",
              "      <td>0.000007</td>\n",
              "      <td>0.000373</td>\n",
              "      <td>0.000088</td>\n",
              "      <td>0.000000</td>\n",
              "      <td>0.000338</td>\n",
              "      <td>0.000441</td>\n",
              "      <td>0.000029</td>\n",
              "      <td>0.000070</td>\n",
              "      <td>0.000149</td>\n",
              "      <td>0.000009</td>\n",
              "      <td>0.000882</td>\n",
              "      <td>0.000200</td>\n",
              "      <td>0.000009</td>\n",
              "      <td>0.000559</td>\n",
              "      <td>0.001097</td>\n",
              "      <td>0.000018</td>\n",
              "      <td>0.000632</td>\n",
              "      <td>0.001128</td>\n",
              "      <td>0.000064</td>\n",
              "      <td>video10</td>\n",
              "      <td>0.950</td>\n",
              "      <td>34</td>\n",
              "      <td>0.900</td>\n",
              "      <td>10</td>\n",
              "    </tr>\n",
              "  </tbody>\n",
              "</table>\n",
              "<p>5 rows × 6080 columns</p>\n",
              "</div>"
            ],
            "text/plain": [
              "          0         1  ...  long-term_memorability  nb_long-term_annotations\n",
              "0  0.125563  0.024036  ...                   0.846                        13\n",
              "1  0.007526  0.001421  ...                   0.667                        12\n",
              "2  0.109584  0.018978  ...                   0.700                        10\n",
              "3  0.120431  0.013561  ...                   0.818                        11\n",
              "4  0.005026  0.001356  ...                   0.900                        10\n",
              "\n",
              "[5 rows x 6080 columns]"
            ]
          },
          "metadata": {
            "tags": []
          },
          "execution_count": 20
        }
      ]
    },
    {
      "cell_type": "code",
      "metadata": {
        "id": "_T_Ue71jD6_d"
      },
      "source": [
        "#Dropping off unnecessary folders\n",
        "final = final.drop(['nb_short-term_annotations','nb_long-term_annotations'],axis='columns')"
      ],
      "execution_count": 21,
      "outputs": []
    },
    {
      "cell_type": "code",
      "metadata": {
        "colab": {
          "base_uri": "https://localhost:8080/",
          "height": 261
        },
        "id": "zlbezIqcHVJe",
        "outputId": "14c1c821-e80e-40aa-9b06-2cf00655dd01"
      },
      "source": [
        "final.head()"
      ],
      "execution_count": 22,
      "outputs": [
        {
          "output_type": "execute_result",
          "data": {
            "text/html": [
              "<div>\n",
              "<style scoped>\n",
              "    .dataframe tbody tr th:only-of-type {\n",
              "        vertical-align: middle;\n",
              "    }\n",
              "\n",
              "    .dataframe tbody tr th {\n",
              "        vertical-align: top;\n",
              "    }\n",
              "\n",
              "    .dataframe thead th {\n",
              "        text-align: right;\n",
              "    }\n",
              "</style>\n",
              "<table border=\"1\" class=\"dataframe\">\n",
              "  <thead>\n",
              "    <tr style=\"text-align: right;\">\n",
              "      <th></th>\n",
              "      <th>0</th>\n",
              "      <th>1</th>\n",
              "      <th>2</th>\n",
              "      <th>3</th>\n",
              "      <th>4</th>\n",
              "      <th>5</th>\n",
              "      <th>6</th>\n",
              "      <th>7</th>\n",
              "      <th>8</th>\n",
              "      <th>9</th>\n",
              "      <th>10</th>\n",
              "      <th>11</th>\n",
              "      <th>12</th>\n",
              "      <th>13</th>\n",
              "      <th>14</th>\n",
              "      <th>15</th>\n",
              "      <th>16</th>\n",
              "      <th>17</th>\n",
              "      <th>18</th>\n",
              "      <th>19</th>\n",
              "      <th>20</th>\n",
              "      <th>21</th>\n",
              "      <th>22</th>\n",
              "      <th>23</th>\n",
              "      <th>24</th>\n",
              "      <th>25</th>\n",
              "      <th>26</th>\n",
              "      <th>27</th>\n",
              "      <th>28</th>\n",
              "      <th>29</th>\n",
              "      <th>30</th>\n",
              "      <th>31</th>\n",
              "      <th>32</th>\n",
              "      <th>33</th>\n",
              "      <th>34</th>\n",
              "      <th>35</th>\n",
              "      <th>36</th>\n",
              "      <th>37</th>\n",
              "      <th>38</th>\n",
              "      <th>39</th>\n",
              "      <th>...</th>\n",
              "      <th>6038</th>\n",
              "      <th>6039</th>\n",
              "      <th>6040</th>\n",
              "      <th>6041</th>\n",
              "      <th>6042</th>\n",
              "      <th>6043</th>\n",
              "      <th>6044</th>\n",
              "      <th>6045</th>\n",
              "      <th>6046</th>\n",
              "      <th>6047</th>\n",
              "      <th>6048</th>\n",
              "      <th>6049</th>\n",
              "      <th>6050</th>\n",
              "      <th>6051</th>\n",
              "      <th>6052</th>\n",
              "      <th>6053</th>\n",
              "      <th>6054</th>\n",
              "      <th>6055</th>\n",
              "      <th>6056</th>\n",
              "      <th>6057</th>\n",
              "      <th>6058</th>\n",
              "      <th>6059</th>\n",
              "      <th>6060</th>\n",
              "      <th>6061</th>\n",
              "      <th>6062</th>\n",
              "      <th>6063</th>\n",
              "      <th>6064</th>\n",
              "      <th>6065</th>\n",
              "      <th>6066</th>\n",
              "      <th>6067</th>\n",
              "      <th>6068</th>\n",
              "      <th>6069</th>\n",
              "      <th>6070</th>\n",
              "      <th>6071</th>\n",
              "      <th>6072</th>\n",
              "      <th>6073</th>\n",
              "      <th>6074</th>\n",
              "      <th>Video</th>\n",
              "      <th>short-term_memorability</th>\n",
              "      <th>long-term_memorability</th>\n",
              "    </tr>\n",
              "  </thead>\n",
              "  <tbody>\n",
              "    <tr>\n",
              "      <th>0</th>\n",
              "      <td>0.125563</td>\n",
              "      <td>0.024036</td>\n",
              "      <td>0.000314</td>\n",
              "      <td>0.0</td>\n",
              "      <td>0.015864</td>\n",
              "      <td>0.000358</td>\n",
              "      <td>0.0</td>\n",
              "      <td>0.000000</td>\n",
              "      <td>0.000086</td>\n",
              "      <td>0.0</td>\n",
              "      <td>0.0</td>\n",
              "      <td>0.0</td>\n",
              "      <td>0.0</td>\n",
              "      <td>0.002795</td>\n",
              "      <td>0.000054</td>\n",
              "      <td>0.0</td>\n",
              "      <td>0.000000</td>\n",
              "      <td>0.000037</td>\n",
              "      <td>0.0</td>\n",
              "      <td>0.0</td>\n",
              "      <td>0.0</td>\n",
              "      <td>0.0</td>\n",
              "      <td>0.0</td>\n",
              "      <td>0.0</td>\n",
              "      <td>0.0</td>\n",
              "      <td>0.0</td>\n",
              "      <td>0.000005</td>\n",
              "      <td>0.0</td>\n",
              "      <td>0.0</td>\n",
              "      <td>0.0</td>\n",
              "      <td>0.0</td>\n",
              "      <td>0.0</td>\n",
              "      <td>0.0</td>\n",
              "      <td>0.0</td>\n",
              "      <td>0.0</td>\n",
              "      <td>0.0</td>\n",
              "      <td>0.0</td>\n",
              "      <td>0.0</td>\n",
              "      <td>0.0</td>\n",
              "      <td>0.0</td>\n",
              "      <td>...</td>\n",
              "      <td>0.000000</td>\n",
              "      <td>0.000148</td>\n",
              "      <td>0.000104</td>\n",
              "      <td>0.000000</td>\n",
              "      <td>0.000121</td>\n",
              "      <td>0.000551</td>\n",
              "      <td>0.000000</td>\n",
              "      <td>0.000114</td>\n",
              "      <td>0.000884</td>\n",
              "      <td>0.000002</td>\n",
              "      <td>0.000116</td>\n",
              "      <td>0.000077</td>\n",
              "      <td>0.000002</td>\n",
              "      <td>0.000027</td>\n",
              "      <td>0.000136</td>\n",
              "      <td>0.000000</td>\n",
              "      <td>0.000000</td>\n",
              "      <td>0.000002</td>\n",
              "      <td>0.000000</td>\n",
              "      <td>0.000091</td>\n",
              "      <td>0.000035</td>\n",
              "      <td>0.000000</td>\n",
              "      <td>0.000163</td>\n",
              "      <td>0.000467</td>\n",
              "      <td>0.000002</td>\n",
              "      <td>0.000010</td>\n",
              "      <td>0.000017</td>\n",
              "      <td>0.000000</td>\n",
              "      <td>0.000393</td>\n",
              "      <td>0.000279</td>\n",
              "      <td>0.000000</td>\n",
              "      <td>0.000289</td>\n",
              "      <td>0.001926</td>\n",
              "      <td>0.000000</td>\n",
              "      <td>0.000086</td>\n",
              "      <td>0.000580</td>\n",
              "      <td>0.000000</td>\n",
              "      <td>video3</td>\n",
              "      <td>0.924</td>\n",
              "      <td>0.846</td>\n",
              "    </tr>\n",
              "    <tr>\n",
              "      <th>1</th>\n",
              "      <td>0.007526</td>\n",
              "      <td>0.001421</td>\n",
              "      <td>0.000068</td>\n",
              "      <td>0.0</td>\n",
              "      <td>0.001184</td>\n",
              "      <td>0.000143</td>\n",
              "      <td>0.0</td>\n",
              "      <td>0.000000</td>\n",
              "      <td>0.000079</td>\n",
              "      <td>0.0</td>\n",
              "      <td>0.0</td>\n",
              "      <td>0.0</td>\n",
              "      <td>0.0</td>\n",
              "      <td>0.000246</td>\n",
              "      <td>0.000024</td>\n",
              "      <td>0.0</td>\n",
              "      <td>0.000000</td>\n",
              "      <td>0.000042</td>\n",
              "      <td>0.0</td>\n",
              "      <td>0.0</td>\n",
              "      <td>0.0</td>\n",
              "      <td>0.0</td>\n",
              "      <td>0.0</td>\n",
              "      <td>0.0</td>\n",
              "      <td>0.0</td>\n",
              "      <td>0.0</td>\n",
              "      <td>0.000004</td>\n",
              "      <td>0.0</td>\n",
              "      <td>0.0</td>\n",
              "      <td>0.0</td>\n",
              "      <td>0.0</td>\n",
              "      <td>0.0</td>\n",
              "      <td>0.0</td>\n",
              "      <td>0.0</td>\n",
              "      <td>0.0</td>\n",
              "      <td>0.0</td>\n",
              "      <td>0.0</td>\n",
              "      <td>0.0</td>\n",
              "      <td>0.0</td>\n",
              "      <td>0.0</td>\n",
              "      <td>...</td>\n",
              "      <td>0.000751</td>\n",
              "      <td>0.000176</td>\n",
              "      <td>0.000062</td>\n",
              "      <td>0.000000</td>\n",
              "      <td>0.000123</td>\n",
              "      <td>0.000398</td>\n",
              "      <td>0.000086</td>\n",
              "      <td>0.000246</td>\n",
              "      <td>0.000433</td>\n",
              "      <td>0.000446</td>\n",
              "      <td>0.000143</td>\n",
              "      <td>0.000053</td>\n",
              "      <td>0.000000</td>\n",
              "      <td>0.000053</td>\n",
              "      <td>0.000099</td>\n",
              "      <td>0.000009</td>\n",
              "      <td>0.000004</td>\n",
              "      <td>0.000033</td>\n",
              "      <td>0.000004</td>\n",
              "      <td>0.000051</td>\n",
              "      <td>0.000035</td>\n",
              "      <td>0.000000</td>\n",
              "      <td>0.000062</td>\n",
              "      <td>0.000358</td>\n",
              "      <td>0.000035</td>\n",
              "      <td>0.000024</td>\n",
              "      <td>0.000083</td>\n",
              "      <td>0.000053</td>\n",
              "      <td>0.000244</td>\n",
              "      <td>0.000066</td>\n",
              "      <td>0.000000</td>\n",
              "      <td>0.000081</td>\n",
              "      <td>0.000617</td>\n",
              "      <td>0.000094</td>\n",
              "      <td>0.000220</td>\n",
              "      <td>0.000762</td>\n",
              "      <td>0.001224</td>\n",
              "      <td>video4</td>\n",
              "      <td>0.923</td>\n",
              "      <td>0.667</td>\n",
              "    </tr>\n",
              "    <tr>\n",
              "      <th>2</th>\n",
              "      <td>0.109584</td>\n",
              "      <td>0.018978</td>\n",
              "      <td>0.000289</td>\n",
              "      <td>0.0</td>\n",
              "      <td>0.008774</td>\n",
              "      <td>0.000208</td>\n",
              "      <td>0.0</td>\n",
              "      <td>0.000002</td>\n",
              "      <td>0.000088</td>\n",
              "      <td>0.0</td>\n",
              "      <td>0.0</td>\n",
              "      <td>0.0</td>\n",
              "      <td>0.0</td>\n",
              "      <td>0.002046</td>\n",
              "      <td>0.000061</td>\n",
              "      <td>0.0</td>\n",
              "      <td>0.000000</td>\n",
              "      <td>0.000038</td>\n",
              "      <td>0.0</td>\n",
              "      <td>0.0</td>\n",
              "      <td>0.0</td>\n",
              "      <td>0.0</td>\n",
              "      <td>0.0</td>\n",
              "      <td>0.0</td>\n",
              "      <td>0.0</td>\n",
              "      <td>0.0</td>\n",
              "      <td>0.000002</td>\n",
              "      <td>0.0</td>\n",
              "      <td>0.0</td>\n",
              "      <td>0.0</td>\n",
              "      <td>0.0</td>\n",
              "      <td>0.0</td>\n",
              "      <td>0.0</td>\n",
              "      <td>0.0</td>\n",
              "      <td>0.0</td>\n",
              "      <td>0.0</td>\n",
              "      <td>0.0</td>\n",
              "      <td>0.0</td>\n",
              "      <td>0.0</td>\n",
              "      <td>0.0</td>\n",
              "      <td>...</td>\n",
              "      <td>0.000073</td>\n",
              "      <td>0.000021</td>\n",
              "      <td>0.000009</td>\n",
              "      <td>0.000002</td>\n",
              "      <td>0.000019</td>\n",
              "      <td>0.000095</td>\n",
              "      <td>0.000021</td>\n",
              "      <td>0.000019</td>\n",
              "      <td>0.000090</td>\n",
              "      <td>0.000073</td>\n",
              "      <td>0.000050</td>\n",
              "      <td>0.000024</td>\n",
              "      <td>0.000000</td>\n",
              "      <td>0.000012</td>\n",
              "      <td>0.000021</td>\n",
              "      <td>0.000000</td>\n",
              "      <td>0.000000</td>\n",
              "      <td>0.000002</td>\n",
              "      <td>0.000000</td>\n",
              "      <td>0.000017</td>\n",
              "      <td>0.000007</td>\n",
              "      <td>0.000002</td>\n",
              "      <td>0.000066</td>\n",
              "      <td>0.000203</td>\n",
              "      <td>0.000026</td>\n",
              "      <td>0.000002</td>\n",
              "      <td>0.000040</td>\n",
              "      <td>0.000007</td>\n",
              "      <td>0.000054</td>\n",
              "      <td>0.000045</td>\n",
              "      <td>0.000000</td>\n",
              "      <td>0.000028</td>\n",
              "      <td>0.000291</td>\n",
              "      <td>0.000033</td>\n",
              "      <td>0.000052</td>\n",
              "      <td>0.000258</td>\n",
              "      <td>0.000215</td>\n",
              "      <td>video6</td>\n",
              "      <td>0.863</td>\n",
              "      <td>0.700</td>\n",
              "    </tr>\n",
              "    <tr>\n",
              "      <th>3</th>\n",
              "      <td>0.120431</td>\n",
              "      <td>0.013561</td>\n",
              "      <td>0.000277</td>\n",
              "      <td>0.0</td>\n",
              "      <td>0.018974</td>\n",
              "      <td>0.000913</td>\n",
              "      <td>0.0</td>\n",
              "      <td>0.000024</td>\n",
              "      <td>0.000713</td>\n",
              "      <td>0.0</td>\n",
              "      <td>0.0</td>\n",
              "      <td>0.0</td>\n",
              "      <td>0.0</td>\n",
              "      <td>0.002496</td>\n",
              "      <td>0.000149</td>\n",
              "      <td>0.0</td>\n",
              "      <td>0.000011</td>\n",
              "      <td>0.000157</td>\n",
              "      <td>0.0</td>\n",
              "      <td>0.0</td>\n",
              "      <td>0.0</td>\n",
              "      <td>0.0</td>\n",
              "      <td>0.0</td>\n",
              "      <td>0.0</td>\n",
              "      <td>0.0</td>\n",
              "      <td>0.0</td>\n",
              "      <td>0.000005</td>\n",
              "      <td>0.0</td>\n",
              "      <td>0.0</td>\n",
              "      <td>0.0</td>\n",
              "      <td>0.0</td>\n",
              "      <td>0.0</td>\n",
              "      <td>0.0</td>\n",
              "      <td>0.0</td>\n",
              "      <td>0.0</td>\n",
              "      <td>0.0</td>\n",
              "      <td>0.0</td>\n",
              "      <td>0.0</td>\n",
              "      <td>0.0</td>\n",
              "      <td>0.0</td>\n",
              "      <td>...</td>\n",
              "      <td>0.000412</td>\n",
              "      <td>0.000412</td>\n",
              "      <td>0.000045</td>\n",
              "      <td>0.000003</td>\n",
              "      <td>0.000144</td>\n",
              "      <td>0.000282</td>\n",
              "      <td>0.000037</td>\n",
              "      <td>0.000197</td>\n",
              "      <td>0.000218</td>\n",
              "      <td>0.000157</td>\n",
              "      <td>0.000237</td>\n",
              "      <td>0.000021</td>\n",
              "      <td>0.000000</td>\n",
              "      <td>0.000040</td>\n",
              "      <td>0.000056</td>\n",
              "      <td>0.000008</td>\n",
              "      <td>0.000005</td>\n",
              "      <td>0.000013</td>\n",
              "      <td>0.000019</td>\n",
              "      <td>0.000168</td>\n",
              "      <td>0.000013</td>\n",
              "      <td>0.000000</td>\n",
              "      <td>0.000133</td>\n",
              "      <td>0.000202</td>\n",
              "      <td>0.000029</td>\n",
              "      <td>0.000029</td>\n",
              "      <td>0.000035</td>\n",
              "      <td>0.000059</td>\n",
              "      <td>0.001110</td>\n",
              "      <td>0.000075</td>\n",
              "      <td>0.000008</td>\n",
              "      <td>0.000333</td>\n",
              "      <td>0.000793</td>\n",
              "      <td>0.000101</td>\n",
              "      <td>0.000588</td>\n",
              "      <td>0.000503</td>\n",
              "      <td>0.000452</td>\n",
              "      <td>video8</td>\n",
              "      <td>0.922</td>\n",
              "      <td>0.818</td>\n",
              "    </tr>\n",
              "    <tr>\n",
              "      <th>4</th>\n",
              "      <td>0.005026</td>\n",
              "      <td>0.001356</td>\n",
              "      <td>0.000055</td>\n",
              "      <td>0.0</td>\n",
              "      <td>0.000665</td>\n",
              "      <td>0.000029</td>\n",
              "      <td>0.0</td>\n",
              "      <td>0.000000</td>\n",
              "      <td>0.000024</td>\n",
              "      <td>0.0</td>\n",
              "      <td>0.0</td>\n",
              "      <td>0.0</td>\n",
              "      <td>0.0</td>\n",
              "      <td>0.000147</td>\n",
              "      <td>0.000020</td>\n",
              "      <td>0.0</td>\n",
              "      <td>0.000000</td>\n",
              "      <td>0.000000</td>\n",
              "      <td>0.0</td>\n",
              "      <td>0.0</td>\n",
              "      <td>0.0</td>\n",
              "      <td>0.0</td>\n",
              "      <td>0.0</td>\n",
              "      <td>0.0</td>\n",
              "      <td>0.0</td>\n",
              "      <td>0.0</td>\n",
              "      <td>0.000000</td>\n",
              "      <td>0.0</td>\n",
              "      <td>0.0</td>\n",
              "      <td>0.0</td>\n",
              "      <td>0.0</td>\n",
              "      <td>0.0</td>\n",
              "      <td>0.0</td>\n",
              "      <td>0.0</td>\n",
              "      <td>0.0</td>\n",
              "      <td>0.0</td>\n",
              "      <td>0.0</td>\n",
              "      <td>0.0</td>\n",
              "      <td>0.0</td>\n",
              "      <td>0.0</td>\n",
              "      <td>...</td>\n",
              "      <td>0.000103</td>\n",
              "      <td>0.000768</td>\n",
              "      <td>0.000215</td>\n",
              "      <td>0.000009</td>\n",
              "      <td>0.000415</td>\n",
              "      <td>0.000926</td>\n",
              "      <td>0.000020</td>\n",
              "      <td>0.000538</td>\n",
              "      <td>0.001178</td>\n",
              "      <td>0.000050</td>\n",
              "      <td>0.000518</td>\n",
              "      <td>0.000169</td>\n",
              "      <td>0.000007</td>\n",
              "      <td>0.000134</td>\n",
              "      <td>0.000169</td>\n",
              "      <td>0.000007</td>\n",
              "      <td>0.000026</td>\n",
              "      <td>0.000046</td>\n",
              "      <td>0.000007</td>\n",
              "      <td>0.000373</td>\n",
              "      <td>0.000088</td>\n",
              "      <td>0.000000</td>\n",
              "      <td>0.000338</td>\n",
              "      <td>0.000441</td>\n",
              "      <td>0.000029</td>\n",
              "      <td>0.000070</td>\n",
              "      <td>0.000149</td>\n",
              "      <td>0.000009</td>\n",
              "      <td>0.000882</td>\n",
              "      <td>0.000200</td>\n",
              "      <td>0.000009</td>\n",
              "      <td>0.000559</td>\n",
              "      <td>0.001097</td>\n",
              "      <td>0.000018</td>\n",
              "      <td>0.000632</td>\n",
              "      <td>0.001128</td>\n",
              "      <td>0.000064</td>\n",
              "      <td>video10</td>\n",
              "      <td>0.950</td>\n",
              "      <td>0.900</td>\n",
              "    </tr>\n",
              "  </tbody>\n",
              "</table>\n",
              "<p>5 rows × 6078 columns</p>\n",
              "</div>"
            ],
            "text/plain": [
              "          0         1  ...  short-term_memorability  long-term_memorability\n",
              "0  0.125563  0.024036  ...                    0.924                   0.846\n",
              "1  0.007526  0.001421  ...                    0.923                   0.667\n",
              "2  0.109584  0.018978  ...                    0.863                   0.700\n",
              "3  0.120431  0.013561  ...                    0.922                   0.818\n",
              "4  0.005026  0.001356  ...                    0.950                   0.900\n",
              "\n",
              "[5 rows x 6078 columns]"
            ]
          },
          "metadata": {
            "tags": []
          },
          "execution_count": 22
        }
      ]
    },
    {
      "cell_type": "markdown",
      "metadata": {
        "id": "GzynUVI799Rs"
      },
      "source": [
        "#**Splitting the data for traning and test**\n",
        "\n",
        "*The X,Y are for training the entire model to get test values for short_term and long_term*\n",
        "\n",
        "*Then the splited ones are used for getting the spearmen's coefficient*\n"
      ]
    },
    {
      "cell_type": "code",
      "metadata": {
        "id": "tQgn-YPDDJtd"
      },
      "source": [
        "#Applying train_test_split\n",
        "\n",
        "X = final.drop(['Video','short-term_memorability','long-term_memorability'],axis=1)\n",
        "Y = final[['short-term_memorability','long-term_memorability']].values # targets\n",
        "\n",
        "X_train, X_test, Y_train, Y_test = train_test_split(X,Y, test_size=0.2, random_state=42) "
      ],
      "execution_count": 23,
      "outputs": []
    },
    {
      "cell_type": "markdown",
      "metadata": {
        "id": "wFLB3Pln-YYm"
      },
      "source": [
        "*Checking if their shapes are as required*\n"
      ]
    },
    {
      "cell_type": "code",
      "metadata": {
        "colab": {
          "base_uri": "https://localhost:8080/"
        },
        "id": "mzPLy7ARIFEH",
        "outputId": "e4e999e5-4135-4665-9ccb-c2521b66c0b2"
      },
      "source": [
        "print('X',X.shape)\n",
        "print('Y',Y.shape)\n",
        "\n",
        "print('X_train', X_train.shape)\n",
        "print('X_test', X_test.shape)\n",
        "print('Y_train', Y_train.shape)\n",
        "print('Y_test', Y_test.shape) "
      ],
      "execution_count": 27,
      "outputs": [
        {
          "output_type": "stream",
          "text": [
            "X (6000, 6075)\n",
            "Y (6000, 2)\n",
            "X_train (4800, 6075)\n",
            "X_test (1200, 6075)\n",
            "Y_train (4800, 2)\n",
            "Y_test (1200, 2)\n"
          ],
          "name": "stdout"
        }
      ]
    },
    {
      "cell_type": "markdown",
      "metadata": {
        "id": "e53pblsgNwzX"
      },
      "source": [
        "##**Extracting the test videos** "
      ]
    },
    {
      "cell_type": "code",
      "metadata": {
        "colab": {
          "base_uri": "https://localhost:8080/"
        },
        "id": "XXAw9xljyFcQ",
        "outputId": "e56eedd8-846a-4256-e2ad-386dfeb1a71c"
      },
      "source": [
        "#Storing the path of the videos in a variable and checking its length\n",
        "\n",
        "HMP_test_path = glob.glob('./HMP_test/HMP_test/*.txt')\n",
        "len(HMP_test_path)"
      ],
      "execution_count": 28,
      "outputs": [
        {
          "output_type": "execute_result",
          "data": {
            "text/plain": [
              "2000"
            ]
          },
          "metadata": {
            "tags": []
          },
          "execution_count": 28
        }
      ]
    },
    {
      "cell_type": "code",
      "metadata": {
        "id": "VKVKor--vSDG"
      },
      "source": [
        "#Loading the HMP feature for the test videos\n",
        "\n",
        "def read_HMP(fname):\n",
        "    \"\"\"Scan HMP(Histogram of Motion Patterns) features from file\"\"\"\n",
        "    vn = []\n",
        "    df = pd.DataFrame();\n",
        "    with open(fname) as f:\n",
        "        for line in f:\n",
        "            pairs=line.split()\n",
        "            vn.append(pairs[0])\n",
        "            HMP_temp = { int(p.split(':')[0]) : float(p.split(':')[1]) for p in pairs}\n",
        "            df['video']=vn\n",
        "    # there are 6075 bins, fill zeros\n",
        "   \n",
        "    HMP = np.zeros(6075)\n",
        "    for idx in HMP_temp.keys():\n",
        "        HMP[idx-1] = HMP_temp[idx]            \n",
        "    return HMP\n",
        "\n",
        "#Storing them in a dataframe\n",
        "\n",
        "HMP_test=pd.DataFrame()\n",
        "for root, dirs, files in os.walk(\"/content/drive/My Drive/HMP_test/HMP_test\"):\n",
        "  pass\n",
        "lst=[]\n",
        "for i in range(0,10009):\n",
        "  value='video'+str(i)+'.txt'\n",
        "  if value in files:\n",
        "    txt=read_HMP(\"/content/drive/My Drive/HMP_test/HMP_test/\"+value)\n",
        "    HMP_test=HMP_test.append([txt],ignore_index=True)\n",
        "    lst.append('video'+str(i))\n",
        "HMP_test['Video']=lst"
      ],
      "execution_count": 10,
      "outputs": []
    },
    {
      "cell_type": "code",
      "metadata": {
        "colab": {
          "base_uri": "https://localhost:8080/",
          "height": 244
        },
        "id": "bc8BwOTQvSGk",
        "outputId": "a381d0c3-fb79-4fcd-805a-f6cbedb54567"
      },
      "source": [
        "#Displaying the test videos\n",
        "\n",
        "HMP_test.head()"
      ],
      "execution_count": 11,
      "outputs": [
        {
          "output_type": "execute_result",
          "data": {
            "text/html": [
              "<div>\n",
              "<style scoped>\n",
              "    .dataframe tbody tr th:only-of-type {\n",
              "        vertical-align: middle;\n",
              "    }\n",
              "\n",
              "    .dataframe tbody tr th {\n",
              "        vertical-align: top;\n",
              "    }\n",
              "\n",
              "    .dataframe thead th {\n",
              "        text-align: right;\n",
              "    }\n",
              "</style>\n",
              "<table border=\"1\" class=\"dataframe\">\n",
              "  <thead>\n",
              "    <tr style=\"text-align: right;\">\n",
              "      <th></th>\n",
              "      <th>0</th>\n",
              "      <th>1</th>\n",
              "      <th>2</th>\n",
              "      <th>3</th>\n",
              "      <th>4</th>\n",
              "      <th>5</th>\n",
              "      <th>6</th>\n",
              "      <th>7</th>\n",
              "      <th>8</th>\n",
              "      <th>9</th>\n",
              "      <th>10</th>\n",
              "      <th>11</th>\n",
              "      <th>12</th>\n",
              "      <th>13</th>\n",
              "      <th>14</th>\n",
              "      <th>15</th>\n",
              "      <th>16</th>\n",
              "      <th>17</th>\n",
              "      <th>18</th>\n",
              "      <th>19</th>\n",
              "      <th>20</th>\n",
              "      <th>21</th>\n",
              "      <th>22</th>\n",
              "      <th>23</th>\n",
              "      <th>24</th>\n",
              "      <th>25</th>\n",
              "      <th>26</th>\n",
              "      <th>27</th>\n",
              "      <th>28</th>\n",
              "      <th>29</th>\n",
              "      <th>30</th>\n",
              "      <th>31</th>\n",
              "      <th>32</th>\n",
              "      <th>33</th>\n",
              "      <th>34</th>\n",
              "      <th>35</th>\n",
              "      <th>36</th>\n",
              "      <th>37</th>\n",
              "      <th>38</th>\n",
              "      <th>39</th>\n",
              "      <th>...</th>\n",
              "      <th>6036</th>\n",
              "      <th>6037</th>\n",
              "      <th>6038</th>\n",
              "      <th>6039</th>\n",
              "      <th>6040</th>\n",
              "      <th>6041</th>\n",
              "      <th>6042</th>\n",
              "      <th>6043</th>\n",
              "      <th>6044</th>\n",
              "      <th>6045</th>\n",
              "      <th>6046</th>\n",
              "      <th>6047</th>\n",
              "      <th>6048</th>\n",
              "      <th>6049</th>\n",
              "      <th>6050</th>\n",
              "      <th>6051</th>\n",
              "      <th>6052</th>\n",
              "      <th>6053</th>\n",
              "      <th>6054</th>\n",
              "      <th>6055</th>\n",
              "      <th>6056</th>\n",
              "      <th>6057</th>\n",
              "      <th>6058</th>\n",
              "      <th>6059</th>\n",
              "      <th>6060</th>\n",
              "      <th>6061</th>\n",
              "      <th>6062</th>\n",
              "      <th>6063</th>\n",
              "      <th>6064</th>\n",
              "      <th>6065</th>\n",
              "      <th>6066</th>\n",
              "      <th>6067</th>\n",
              "      <th>6068</th>\n",
              "      <th>6069</th>\n",
              "      <th>6070</th>\n",
              "      <th>6071</th>\n",
              "      <th>6072</th>\n",
              "      <th>6073</th>\n",
              "      <th>6074</th>\n",
              "      <th>Video</th>\n",
              "    </tr>\n",
              "  </thead>\n",
              "  <tbody>\n",
              "    <tr>\n",
              "      <th>0</th>\n",
              "      <td>0.022039</td>\n",
              "      <td>0.005264</td>\n",
              "      <td>0.000098</td>\n",
              "      <td>0.0</td>\n",
              "      <td>0.003689</td>\n",
              "      <td>0.000129</td>\n",
              "      <td>0.0</td>\n",
              "      <td>0.000000</td>\n",
              "      <td>0.000045</td>\n",
              "      <td>0.0</td>\n",
              "      <td>0.0</td>\n",
              "      <td>0.0</td>\n",
              "      <td>0.0</td>\n",
              "      <td>0.000907</td>\n",
              "      <td>0.000036</td>\n",
              "      <td>0.0</td>\n",
              "      <td>0.0</td>\n",
              "      <td>0.000011</td>\n",
              "      <td>0.0</td>\n",
              "      <td>0.0</td>\n",
              "      <td>0.0</td>\n",
              "      <td>0.0</td>\n",
              "      <td>0.0</td>\n",
              "      <td>0.0</td>\n",
              "      <td>0.0</td>\n",
              "      <td>0.0</td>\n",
              "      <td>0.000002</td>\n",
              "      <td>0.0</td>\n",
              "      <td>0.0</td>\n",
              "      <td>0.0</td>\n",
              "      <td>0.0</td>\n",
              "      <td>0.0</td>\n",
              "      <td>0.0</td>\n",
              "      <td>0.0</td>\n",
              "      <td>0.0</td>\n",
              "      <td>0.0</td>\n",
              "      <td>0.0</td>\n",
              "      <td>0.0</td>\n",
              "      <td>0.0</td>\n",
              "      <td>0.0</td>\n",
              "      <td>...</td>\n",
              "      <td>0.000299</td>\n",
              "      <td>0.000916</td>\n",
              "      <td>0.000118</td>\n",
              "      <td>0.000120</td>\n",
              "      <td>0.000109</td>\n",
              "      <td>0.000000</td>\n",
              "      <td>0.000218</td>\n",
              "      <td>0.000419</td>\n",
              "      <td>0.000022</td>\n",
              "      <td>0.000156</td>\n",
              "      <td>0.000468</td>\n",
              "      <td>0.000091</td>\n",
              "      <td>0.000096</td>\n",
              "      <td>0.000053</td>\n",
              "      <td>0.000000</td>\n",
              "      <td>0.000051</td>\n",
              "      <td>0.000074</td>\n",
              "      <td>0.000002</td>\n",
              "      <td>0.000007</td>\n",
              "      <td>0.000025</td>\n",
              "      <td>0.000000</td>\n",
              "      <td>0.000136</td>\n",
              "      <td>0.000082</td>\n",
              "      <td>0.000004</td>\n",
              "      <td>0.000189</td>\n",
              "      <td>0.000352</td>\n",
              "      <td>0.000033</td>\n",
              "      <td>0.000036</td>\n",
              "      <td>0.000096</td>\n",
              "      <td>0.000025</td>\n",
              "      <td>0.000114</td>\n",
              "      <td>0.000056</td>\n",
              "      <td>0.000002</td>\n",
              "      <td>0.000136</td>\n",
              "      <td>0.000388</td>\n",
              "      <td>0.000038</td>\n",
              "      <td>0.000165</td>\n",
              "      <td>0.000488</td>\n",
              "      <td>0.000187</td>\n",
              "      <td>video7494</td>\n",
              "    </tr>\n",
              "    <tr>\n",
              "      <th>1</th>\n",
              "      <td>0.004694</td>\n",
              "      <td>0.001934</td>\n",
              "      <td>0.000040</td>\n",
              "      <td>0.0</td>\n",
              "      <td>0.001226</td>\n",
              "      <td>0.000058</td>\n",
              "      <td>0.0</td>\n",
              "      <td>0.000000</td>\n",
              "      <td>0.000025</td>\n",
              "      <td>0.0</td>\n",
              "      <td>0.0</td>\n",
              "      <td>0.0</td>\n",
              "      <td>0.0</td>\n",
              "      <td>0.000246</td>\n",
              "      <td>0.000027</td>\n",
              "      <td>0.0</td>\n",
              "      <td>0.0</td>\n",
              "      <td>0.000004</td>\n",
              "      <td>0.0</td>\n",
              "      <td>0.0</td>\n",
              "      <td>0.0</td>\n",
              "      <td>0.0</td>\n",
              "      <td>0.0</td>\n",
              "      <td>0.0</td>\n",
              "      <td>0.0</td>\n",
              "      <td>0.0</td>\n",
              "      <td>0.000002</td>\n",
              "      <td>0.0</td>\n",
              "      <td>0.0</td>\n",
              "      <td>0.0</td>\n",
              "      <td>0.0</td>\n",
              "      <td>0.0</td>\n",
              "      <td>0.0</td>\n",
              "      <td>0.0</td>\n",
              "      <td>0.0</td>\n",
              "      <td>0.0</td>\n",
              "      <td>0.0</td>\n",
              "      <td>0.0</td>\n",
              "      <td>0.0</td>\n",
              "      <td>0.0</td>\n",
              "      <td>...</td>\n",
              "      <td>0.000226</td>\n",
              "      <td>0.000386</td>\n",
              "      <td>0.000036</td>\n",
              "      <td>0.000107</td>\n",
              "      <td>0.000078</td>\n",
              "      <td>0.000002</td>\n",
              "      <td>0.000134</td>\n",
              "      <td>0.000185</td>\n",
              "      <td>0.000007</td>\n",
              "      <td>0.000118</td>\n",
              "      <td>0.000192</td>\n",
              "      <td>0.000029</td>\n",
              "      <td>0.000065</td>\n",
              "      <td>0.000013</td>\n",
              "      <td>0.000000</td>\n",
              "      <td>0.000022</td>\n",
              "      <td>0.000042</td>\n",
              "      <td>0.000000</td>\n",
              "      <td>0.000011</td>\n",
              "      <td>0.000011</td>\n",
              "      <td>0.000002</td>\n",
              "      <td>0.000040</td>\n",
              "      <td>0.000022</td>\n",
              "      <td>0.000000</td>\n",
              "      <td>0.000056</td>\n",
              "      <td>0.000098</td>\n",
              "      <td>0.000007</td>\n",
              "      <td>0.000009</td>\n",
              "      <td>0.000027</td>\n",
              "      <td>0.000000</td>\n",
              "      <td>0.000056</td>\n",
              "      <td>0.000027</td>\n",
              "      <td>0.000002</td>\n",
              "      <td>0.000087</td>\n",
              "      <td>0.000121</td>\n",
              "      <td>0.000004</td>\n",
              "      <td>0.000109</td>\n",
              "      <td>0.000136</td>\n",
              "      <td>0.000029</td>\n",
              "      <td>video7495</td>\n",
              "    </tr>\n",
              "    <tr>\n",
              "      <th>2</th>\n",
              "      <td>0.026530</td>\n",
              "      <td>0.006208</td>\n",
              "      <td>0.000058</td>\n",
              "      <td>0.0</td>\n",
              "      <td>0.002280</td>\n",
              "      <td>0.000031</td>\n",
              "      <td>0.0</td>\n",
              "      <td>0.000000</td>\n",
              "      <td>0.000009</td>\n",
              "      <td>0.0</td>\n",
              "      <td>0.0</td>\n",
              "      <td>0.0</td>\n",
              "      <td>0.0</td>\n",
              "      <td>0.000421</td>\n",
              "      <td>0.000020</td>\n",
              "      <td>0.0</td>\n",
              "      <td>0.0</td>\n",
              "      <td>0.000002</td>\n",
              "      <td>0.0</td>\n",
              "      <td>0.0</td>\n",
              "      <td>0.0</td>\n",
              "      <td>0.0</td>\n",
              "      <td>0.0</td>\n",
              "      <td>0.0</td>\n",
              "      <td>0.0</td>\n",
              "      <td>0.0</td>\n",
              "      <td>0.000000</td>\n",
              "      <td>0.0</td>\n",
              "      <td>0.0</td>\n",
              "      <td>0.0</td>\n",
              "      <td>0.0</td>\n",
              "      <td>0.0</td>\n",
              "      <td>0.0</td>\n",
              "      <td>0.0</td>\n",
              "      <td>0.0</td>\n",
              "      <td>0.0</td>\n",
              "      <td>0.0</td>\n",
              "      <td>0.0</td>\n",
              "      <td>0.0</td>\n",
              "      <td>0.0</td>\n",
              "      <td>...</td>\n",
              "      <td>0.000175</td>\n",
              "      <td>0.000450</td>\n",
              "      <td>0.000141</td>\n",
              "      <td>0.000054</td>\n",
              "      <td>0.000031</td>\n",
              "      <td>0.000004</td>\n",
              "      <td>0.000092</td>\n",
              "      <td>0.000134</td>\n",
              "      <td>0.000029</td>\n",
              "      <td>0.000128</td>\n",
              "      <td>0.000217</td>\n",
              "      <td>0.000067</td>\n",
              "      <td>0.000047</td>\n",
              "      <td>0.000025</td>\n",
              "      <td>0.000002</td>\n",
              "      <td>0.000027</td>\n",
              "      <td>0.000040</td>\n",
              "      <td>0.000002</td>\n",
              "      <td>0.000018</td>\n",
              "      <td>0.000018</td>\n",
              "      <td>0.000004</td>\n",
              "      <td>0.000031</td>\n",
              "      <td>0.000029</td>\n",
              "      <td>0.000004</td>\n",
              "      <td>0.000045</td>\n",
              "      <td>0.000090</td>\n",
              "      <td>0.000002</td>\n",
              "      <td>0.000004</td>\n",
              "      <td>0.000027</td>\n",
              "      <td>0.000011</td>\n",
              "      <td>0.000034</td>\n",
              "      <td>0.000011</td>\n",
              "      <td>0.000002</td>\n",
              "      <td>0.000063</td>\n",
              "      <td>0.000081</td>\n",
              "      <td>0.000004</td>\n",
              "      <td>0.000092</td>\n",
              "      <td>0.000143</td>\n",
              "      <td>0.000051</td>\n",
              "      <td>video7496</td>\n",
              "    </tr>\n",
              "    <tr>\n",
              "      <th>3</th>\n",
              "      <td>0.045109</td>\n",
              "      <td>0.008317</td>\n",
              "      <td>0.000151</td>\n",
              "      <td>0.0</td>\n",
              "      <td>0.005598</td>\n",
              "      <td>0.000128</td>\n",
              "      <td>0.0</td>\n",
              "      <td>0.000008</td>\n",
              "      <td>0.000050</td>\n",
              "      <td>0.0</td>\n",
              "      <td>0.0</td>\n",
              "      <td>0.0</td>\n",
              "      <td>0.0</td>\n",
              "      <td>0.000741</td>\n",
              "      <td>0.000053</td>\n",
              "      <td>0.0</td>\n",
              "      <td>0.0</td>\n",
              "      <td>0.000020</td>\n",
              "      <td>0.0</td>\n",
              "      <td>0.0</td>\n",
              "      <td>0.0</td>\n",
              "      <td>0.0</td>\n",
              "      <td>0.0</td>\n",
              "      <td>0.0</td>\n",
              "      <td>0.0</td>\n",
              "      <td>0.0</td>\n",
              "      <td>0.000005</td>\n",
              "      <td>0.0</td>\n",
              "      <td>0.0</td>\n",
              "      <td>0.0</td>\n",
              "      <td>0.0</td>\n",
              "      <td>0.0</td>\n",
              "      <td>0.0</td>\n",
              "      <td>0.0</td>\n",
              "      <td>0.0</td>\n",
              "      <td>0.0</td>\n",
              "      <td>0.0</td>\n",
              "      <td>0.0</td>\n",
              "      <td>0.0</td>\n",
              "      <td>0.0</td>\n",
              "      <td>...</td>\n",
              "      <td>0.000181</td>\n",
              "      <td>0.000266</td>\n",
              "      <td>0.000219</td>\n",
              "      <td>0.000103</td>\n",
              "      <td>0.000045</td>\n",
              "      <td>0.000000</td>\n",
              "      <td>0.000068</td>\n",
              "      <td>0.000181</td>\n",
              "      <td>0.000033</td>\n",
              "      <td>0.000141</td>\n",
              "      <td>0.000249</td>\n",
              "      <td>0.000128</td>\n",
              "      <td>0.000163</td>\n",
              "      <td>0.000040</td>\n",
              "      <td>0.000000</td>\n",
              "      <td>0.000035</td>\n",
              "      <td>0.000053</td>\n",
              "      <td>0.000003</td>\n",
              "      <td>0.000005</td>\n",
              "      <td>0.000015</td>\n",
              "      <td>0.000000</td>\n",
              "      <td>0.000053</td>\n",
              "      <td>0.000018</td>\n",
              "      <td>0.000003</td>\n",
              "      <td>0.000158</td>\n",
              "      <td>0.000337</td>\n",
              "      <td>0.000018</td>\n",
              "      <td>0.000023</td>\n",
              "      <td>0.000023</td>\n",
              "      <td>0.000035</td>\n",
              "      <td>0.000256</td>\n",
              "      <td>0.000083</td>\n",
              "      <td>0.000003</td>\n",
              "      <td>0.000116</td>\n",
              "      <td>0.000467</td>\n",
              "      <td>0.000020</td>\n",
              "      <td>0.000279</td>\n",
              "      <td>0.000470</td>\n",
              "      <td>0.000219</td>\n",
              "      <td>video7497</td>\n",
              "    </tr>\n",
              "    <tr>\n",
              "      <th>4</th>\n",
              "      <td>0.034691</td>\n",
              "      <td>0.008619</td>\n",
              "      <td>0.000412</td>\n",
              "      <td>0.0</td>\n",
              "      <td>0.028355</td>\n",
              "      <td>0.000538</td>\n",
              "      <td>0.0</td>\n",
              "      <td>0.000000</td>\n",
              "      <td>0.000325</td>\n",
              "      <td>0.0</td>\n",
              "      <td>0.0</td>\n",
              "      <td>0.0</td>\n",
              "      <td>0.0</td>\n",
              "      <td>0.002234</td>\n",
              "      <td>0.000159</td>\n",
              "      <td>0.0</td>\n",
              "      <td>0.0</td>\n",
              "      <td>0.000044</td>\n",
              "      <td>0.0</td>\n",
              "      <td>0.0</td>\n",
              "      <td>0.0</td>\n",
              "      <td>0.0</td>\n",
              "      <td>0.0</td>\n",
              "      <td>0.0</td>\n",
              "      <td>0.0</td>\n",
              "      <td>0.0</td>\n",
              "      <td>0.000007</td>\n",
              "      <td>0.0</td>\n",
              "      <td>0.0</td>\n",
              "      <td>0.0</td>\n",
              "      <td>0.0</td>\n",
              "      <td>0.0</td>\n",
              "      <td>0.0</td>\n",
              "      <td>0.0</td>\n",
              "      <td>0.0</td>\n",
              "      <td>0.0</td>\n",
              "      <td>0.0</td>\n",
              "      <td>0.0</td>\n",
              "      <td>0.0</td>\n",
              "      <td>0.0</td>\n",
              "      <td>...</td>\n",
              "      <td>0.000215</td>\n",
              "      <td>0.000215</td>\n",
              "      <td>0.000082</td>\n",
              "      <td>0.000077</td>\n",
              "      <td>0.000029</td>\n",
              "      <td>0.000000</td>\n",
              "      <td>0.000058</td>\n",
              "      <td>0.000131</td>\n",
              "      <td>0.000011</td>\n",
              "      <td>0.000097</td>\n",
              "      <td>0.000120</td>\n",
              "      <td>0.000049</td>\n",
              "      <td>0.000100</td>\n",
              "      <td>0.000020</td>\n",
              "      <td>0.000000</td>\n",
              "      <td>0.000040</td>\n",
              "      <td>0.000035</td>\n",
              "      <td>0.000002</td>\n",
              "      <td>0.000002</td>\n",
              "      <td>0.000002</td>\n",
              "      <td>0.000000</td>\n",
              "      <td>0.000038</td>\n",
              "      <td>0.000013</td>\n",
              "      <td>0.000000</td>\n",
              "      <td>0.000093</td>\n",
              "      <td>0.000206</td>\n",
              "      <td>0.000020</td>\n",
              "      <td>0.000013</td>\n",
              "      <td>0.000024</td>\n",
              "      <td>0.000009</td>\n",
              "      <td>0.000148</td>\n",
              "      <td>0.000038</td>\n",
              "      <td>0.000002</td>\n",
              "      <td>0.000117</td>\n",
              "      <td>0.000206</td>\n",
              "      <td>0.000022</td>\n",
              "      <td>0.000228</td>\n",
              "      <td>0.000334</td>\n",
              "      <td>0.000086</td>\n",
              "      <td>video7498</td>\n",
              "    </tr>\n",
              "  </tbody>\n",
              "</table>\n",
              "<p>5 rows × 6076 columns</p>\n",
              "</div>"
            ],
            "text/plain": [
              "          0         1         2    3  ...      6072      6073      6074      Video\n",
              "0  0.022039  0.005264  0.000098  0.0  ...  0.000165  0.000488  0.000187  video7494\n",
              "1  0.004694  0.001934  0.000040  0.0  ...  0.000109  0.000136  0.000029  video7495\n",
              "2  0.026530  0.006208  0.000058  0.0  ...  0.000092  0.000143  0.000051  video7496\n",
              "3  0.045109  0.008317  0.000151  0.0  ...  0.000279  0.000470  0.000219  video7497\n",
              "4  0.034691  0.008619  0.000412  0.0  ...  0.000228  0.000334  0.000086  video7498\n",
              "\n",
              "[5 rows x 6076 columns]"
            ]
          },
          "metadata": {
            "tags": []
          },
          "execution_count": 11
        }
      ]
    },
    {
      "cell_type": "code",
      "metadata": {
        "id": "G634hd3UumhD"
      },
      "source": [
        "#Exporting the HMP test videos to a csv\n",
        "\n",
        "HMP_test.to_csv(\"HMP_features_test.csv\")"
      ],
      "execution_count": 12,
      "outputs": []
    },
    {
      "cell_type": "code",
      "metadata": {
        "id": "SgqOkOG947C6"
      },
      "source": [
        "# Storing these in a variable to use for testing\n",
        "\n",
        "X_test_data = HMP_test.drop('Video',axis=1)"
      ],
      "execution_count": 29,
      "outputs": []
    },
    {
      "cell_type": "markdown",
      "metadata": {
        "id": "HTLd2MZND6Hw"
      },
      "source": [
        "##**Random Forest Regressor**"
      ]
    },
    {
      "cell_type": "markdown",
      "metadata": {
        "id": "egzroEUBEFzY"
      },
      "source": [
        "*1. To get the spearman's correlation coefficient*\n",
        "\n"
      ]
    },
    {
      "cell_type": "code",
      "metadata": {
        "colab": {
          "base_uri": "https://localhost:8080/"
        },
        "id": "_nMxPybiElFe",
        "outputId": "abfcb9c3-71a8-4352-b936-a3c55e3b4b72"
      },
      "source": [
        "#Fitting the Random Forest Regressor to the dev set\n",
        "\n",
        "rfRegressor1 = RandomForestRegressor(n_estimators=10)\n",
        "rfRegressor1.fit(X_train,Y_train)"
      ],
      "execution_count": 30,
      "outputs": [
        {
          "output_type": "execute_result",
          "data": {
            "text/plain": [
              "RandomForestRegressor(bootstrap=True, ccp_alpha=0.0, criterion='mse',\n",
              "                      max_depth=None, max_features='auto', max_leaf_nodes=None,\n",
              "                      max_samples=None, min_impurity_decrease=0.0,\n",
              "                      min_impurity_split=None, min_samples_leaf=1,\n",
              "                      min_samples_split=2, min_weight_fraction_leaf=0.0,\n",
              "                      n_estimators=10, n_jobs=None, oob_score=False,\n",
              "                      random_state=None, verbose=0, warm_start=False)"
            ]
          },
          "metadata": {
            "tags": []
          },
          "execution_count": 30
        }
      ]
    },
    {
      "cell_type": "code",
      "metadata": {
        "id": "UAjwTK42WlGr"
      },
      "source": [
        ""
      ],
      "execution_count": null,
      "outputs": []
    },
    {
      "cell_type": "code",
      "metadata": {
        "id": "DAXigw4vEld0"
      },
      "source": [
        "#Then predict with the remaining videos\n",
        "\n",
        "pred_rf_train = rfRegressor1.predict(X_test)"
      ],
      "execution_count": 33,
      "outputs": []
    },
    {
      "cell_type": "code",
      "metadata": {
        "colab": {
          "base_uri": "https://localhost:8080/"
        },
        "id": "Yw0fYI1xElgA",
        "outputId": "87878bc8-b12c-4924-a021-d29084d748ff"
      },
      "source": [
        "#Display the predicted values \n",
        "\n",
        "pred_rf_train"
      ],
      "execution_count": 34,
      "outputs": [
        {
          "output_type": "execute_result",
          "data": {
            "text/plain": [
              "array([[0.8863, 0.8083],\n",
              "       [0.8888, 0.7285],\n",
              "       [0.8436, 0.835 ],\n",
              "       ...,\n",
              "       [0.849 , 0.7698],\n",
              "       [0.8952, 0.7529],\n",
              "       [0.896 , 0.7908]])"
            ]
          },
          "metadata": {
            "tags": []
          },
          "execution_count": 34
        }
      ]
    },
    {
      "cell_type": "code",
      "metadata": {
        "colab": {
          "base_uri": "https://localhost:8080/"
        },
        "id": "owb_NqmuEljp",
        "outputId": "a29557cf-7a54-4bd5-fdf4-13b1966c985b"
      },
      "source": [
        "#Get the spearman's score for the random forest model \n",
        "\n",
        "Rf_scores = Get_score(pred_rf_train, Y_test)"
      ],
      "execution_count": 35,
      "outputs": [
        {
          "output_type": "stream",
          "text": [
            "The Spearman's correlation coefficient is: 0.215\n",
            "The Spearman's correlation coefficient is: 0.028\n"
          ],
          "name": "stdout"
        }
      ]
    },
    {
      "cell_type": "markdown",
      "metadata": {
        "id": "h1JUNoFSEWKc"
      },
      "source": [
        "*2. To get predicted values for the test_videos*"
      ]
    },
    {
      "cell_type": "code",
      "metadata": {
        "colab": {
          "base_uri": "https://localhost:8080/"
        },
        "id": "p-Dk8yqy0Nwt",
        "outputId": "9279fc86-143c-4a24-ff5b-3cda6d201341"
      },
      "source": [
        "#Fitting the Random Forest Regressor to the dev set\n",
        "\n",
        "rfRegressor2 = RandomForestRegressor(n_estimators=10)\n",
        "rfRegressor2.fit(X,Y)"
      ],
      "execution_count": 36,
      "outputs": [
        {
          "output_type": "execute_result",
          "data": {
            "text/plain": [
              "RandomForestRegressor(bootstrap=True, ccp_alpha=0.0, criterion='mse',\n",
              "                      max_depth=None, max_features='auto', max_leaf_nodes=None,\n",
              "                      max_samples=None, min_impurity_decrease=0.0,\n",
              "                      min_impurity_split=None, min_samples_leaf=1,\n",
              "                      min_samples_split=2, min_weight_fraction_leaf=0.0,\n",
              "                      n_estimators=10, n_jobs=None, oob_score=False,\n",
              "                      random_state=None, verbose=0, warm_start=False)"
            ]
          },
          "metadata": {
            "tags": []
          },
          "execution_count": 36
        }
      ]
    },
    {
      "cell_type": "code",
      "metadata": {
        "id": "u4HQZos4yqiX"
      },
      "source": [
        "#Then predict with the remaining videos with test data videos\n",
        "\n",
        "pred_rf_test = rfRegressor2.predict(X_test_data)"
      ],
      "execution_count": 37,
      "outputs": []
    },
    {
      "cell_type": "code",
      "metadata": {
        "colab": {
          "base_uri": "https://localhost:8080/"
        },
        "id": "eb5SBoZgYzM7",
        "outputId": "78372954-e21b-4150-a4a6-8400a99fb9bf"
      },
      "source": [
        "#Display the predicted values \n",
        "\n",
        "pred_rf_test"
      ],
      "execution_count": 38,
      "outputs": [
        {
          "output_type": "execute_result",
          "data": {
            "text/plain": [
              "array([[0.8405, 0.7496],\n",
              "       [0.8893, 0.794 ],\n",
              "       [0.8998, 0.7723],\n",
              "       ...,\n",
              "       [0.8972, 0.7913],\n",
              "       [0.864 , 0.8072],\n",
              "       [0.8918, 0.8384]])"
            ]
          },
          "metadata": {
            "tags": []
          },
          "execution_count": 38
        }
      ]
    },
    {
      "cell_type": "code",
      "metadata": {
        "colab": {
          "base_uri": "https://localhost:8080/",
          "height": 195
        },
        "id": "3MzlAWAu9OoM",
        "outputId": "09b01338-bbf7-4650-9648-15d984235aa6"
      },
      "source": [
        "#Store the predictions in a dataframe\n",
        "\n",
        "results_rf = pd.DataFrame(pred_rf_test,columns = ['short_term_memorobility_rf','long_term_memorobility_rf'])\n",
        "results_rf.head()"
      ],
      "execution_count": 41,
      "outputs": [
        {
          "output_type": "execute_result",
          "data": {
            "text/html": [
              "<div>\n",
              "<style scoped>\n",
              "    .dataframe tbody tr th:only-of-type {\n",
              "        vertical-align: middle;\n",
              "    }\n",
              "\n",
              "    .dataframe tbody tr th {\n",
              "        vertical-align: top;\n",
              "    }\n",
              "\n",
              "    .dataframe thead th {\n",
              "        text-align: right;\n",
              "    }\n",
              "</style>\n",
              "<table border=\"1\" class=\"dataframe\">\n",
              "  <thead>\n",
              "    <tr style=\"text-align: right;\">\n",
              "      <th></th>\n",
              "      <th>short_term_memorobility_rf</th>\n",
              "      <th>long_term_memorobility_rf</th>\n",
              "    </tr>\n",
              "  </thead>\n",
              "  <tbody>\n",
              "    <tr>\n",
              "      <th>0</th>\n",
              "      <td>0.8405</td>\n",
              "      <td>0.7496</td>\n",
              "    </tr>\n",
              "    <tr>\n",
              "      <th>1</th>\n",
              "      <td>0.8893</td>\n",
              "      <td>0.7940</td>\n",
              "    </tr>\n",
              "    <tr>\n",
              "      <th>2</th>\n",
              "      <td>0.8998</td>\n",
              "      <td>0.7723</td>\n",
              "    </tr>\n",
              "    <tr>\n",
              "      <th>3</th>\n",
              "      <td>0.8931</td>\n",
              "      <td>0.7479</td>\n",
              "    </tr>\n",
              "    <tr>\n",
              "      <th>4</th>\n",
              "      <td>0.7879</td>\n",
              "      <td>0.6947</td>\n",
              "    </tr>\n",
              "  </tbody>\n",
              "</table>\n",
              "</div>"
            ],
            "text/plain": [
              "   short_term_memorobility_rf  long_term_memorobility_rf\n",
              "0                      0.8405                     0.7496\n",
              "1                      0.8893                     0.7940\n",
              "2                      0.8998                     0.7723\n",
              "3                      0.8931                     0.7479\n",
              "4                      0.7879                     0.6947"
            ]
          },
          "metadata": {
            "tags": []
          },
          "execution_count": 41
        }
      ]
    },
    {
      "cell_type": "code",
      "metadata": {
        "id": "U9cmlqA3-CBn"
      },
      "source": [
        "#Export the dataframe to store them\n",
        "\n",
        "results_rf.to_csv(\"HMP_RandomForest.csv\")"
      ],
      "execution_count": 42,
      "outputs": []
    },
    {
      "cell_type": "markdown",
      "metadata": {
        "id": "9j3DVeuPMl_8"
      },
      "source": [
        "##**Decision Tree Regressor**"
      ]
    },
    {
      "cell_type": "markdown",
      "metadata": {
        "id": "SkYk2e72MtiP"
      },
      "source": [
        "*1. To get the spearman's correlation coefficient*"
      ]
    },
    {
      "cell_type": "code",
      "metadata": {
        "colab": {
          "base_uri": "https://localhost:8080/"
        },
        "id": "4M6CCvBjLqRN",
        "outputId": "f83fbc6a-c97c-48af-b568-b269e362283f"
      },
      "source": [
        "##Fitting the Decision Tree Regressor to the dev set\n",
        "\n",
        "dtRegressor1 = DecisionTreeRegressor()\n",
        "dtRegressor1.fit(X_train, Y_train)"
      ],
      "execution_count": 43,
      "outputs": [
        {
          "output_type": "execute_result",
          "data": {
            "text/plain": [
              "DecisionTreeRegressor(ccp_alpha=0.0, criterion='mse', max_depth=None,\n",
              "                      max_features=None, max_leaf_nodes=None,\n",
              "                      min_impurity_decrease=0.0, min_impurity_split=None,\n",
              "                      min_samples_leaf=1, min_samples_split=2,\n",
              "                      min_weight_fraction_leaf=0.0, presort='deprecated',\n",
              "                      random_state=None, splitter='best')"
            ]
          },
          "metadata": {
            "tags": []
          },
          "execution_count": 43
        }
      ]
    },
    {
      "cell_type": "code",
      "metadata": {
        "colab": {
          "base_uri": "https://localhost:8080/"
        },
        "id": "8GO2GTZG5oIi",
        "outputId": "30c1830f-5a1b-4334-b979-ff5d727ef516"
      },
      "source": [
        "#Then predict with the remaining videos\n",
        "\n",
        "pred_dt_train = dtRegressor1.predict(X_test)\n",
        "pred_dt_train"
      ],
      "execution_count": 45,
      "outputs": [
        {
          "output_type": "execute_result",
          "data": {
            "text/plain": [
              "array([[0.856, 0.636],\n",
              "       [0.81 , 0.917],\n",
              "       [0.952, 0.923],\n",
              "       ...,\n",
              "       [0.857, 0.6  ],\n",
              "       [0.982, 0.833],\n",
              "       [0.893, 0.6  ]])"
            ]
          },
          "metadata": {
            "tags": []
          },
          "execution_count": 45
        }
      ]
    },
    {
      "cell_type": "code",
      "metadata": {
        "colab": {
          "base_uri": "https://localhost:8080/"
        },
        "id": "XidMbsae5oOG",
        "outputId": "42a056a5-ed04-4006-88be-d7ff19d2b521"
      },
      "source": [
        "#Get the spearman's score for the decision tree model \n",
        "\n",
        "Dt_scores = Get_score(pred_dt_train, Y_test)"
      ],
      "execution_count": 46,
      "outputs": [
        {
          "output_type": "stream",
          "text": [
            "The Spearman's correlation coefficient is: 0.058\n",
            "The Spearman's correlation coefficient is: 0.003\n"
          ],
          "name": "stdout"
        }
      ]
    },
    {
      "cell_type": "markdown",
      "metadata": {
        "id": "fkqL8B-YM1wL"
      },
      "source": [
        "*2. To get predicted values for the test_videos*"
      ]
    },
    {
      "cell_type": "code",
      "metadata": {
        "colab": {
          "base_uri": "https://localhost:8080/"
        },
        "id": "Z0M_Nz4JM0Dt",
        "outputId": "f1396b63-c640-48c5-94fa-925e3c927126"
      },
      "source": [
        "#Fitting the Decision Tree Regressor to the dev set\n",
        "\n",
        "dtRegressor2 = DecisionTreeRegressor()\n",
        "dtRegressor2.fit(X, Y)"
      ],
      "execution_count": 47,
      "outputs": [
        {
          "output_type": "execute_result",
          "data": {
            "text/plain": [
              "DecisionTreeRegressor(ccp_alpha=0.0, criterion='mse', max_depth=None,\n",
              "                      max_features=None, max_leaf_nodes=None,\n",
              "                      min_impurity_decrease=0.0, min_impurity_split=None,\n",
              "                      min_samples_leaf=1, min_samples_split=2,\n",
              "                      min_weight_fraction_leaf=0.0, presort='deprecated',\n",
              "                      random_state=None, splitter='best')"
            ]
          },
          "metadata": {
            "tags": []
          },
          "execution_count": 47
        }
      ]
    },
    {
      "cell_type": "code",
      "metadata": {
        "colab": {
          "base_uri": "https://localhost:8080/"
        },
        "id": "H_xZcrFMM0_B",
        "outputId": "e5cbc56a-7f99-42c8-c329-312124bf7b16"
      },
      "source": [
        "#Then predict with the test videos\n",
        "\n",
        "pred_dt_test = dtRegressor2.predict(X_test_data)\n",
        "pred_dt_test"
      ],
      "execution_count": 48,
      "outputs": [
        {
          "output_type": "execute_result",
          "data": {
            "text/plain": [
              "array([[0.923, 0.818],\n",
              "       [0.898, 0.778],\n",
              "       [0.984, 0.9  ],\n",
              "       ...,\n",
              "       [0.868, 0.7  ],\n",
              "       [0.713, 0.6  ],\n",
              "       [0.896, 0.833]])"
            ]
          },
          "metadata": {
            "tags": []
          },
          "execution_count": 48
        }
      ]
    },
    {
      "cell_type": "code",
      "metadata": {
        "id": "qSWqcyDuM1Cd"
      },
      "source": [
        "#Store the predicted values in a dataframe and export them as a csv\n",
        "\n",
        "results_dt = pd.DataFrame(pred_dt_test,columns = ['short_term_memorobility_dt','long_term_memorobility_dt'])\n",
        "results_dt.to_csv(\"HMP_DecisionTree.csv\")"
      ],
      "execution_count": 49,
      "outputs": []
    },
    {
      "cell_type": "markdown",
      "metadata": {
        "id": "kh51ixr3PXjy"
      },
      "source": [
        "# **K Nearest Neighbors Regressor**"
      ]
    },
    {
      "cell_type": "markdown",
      "metadata": {
        "id": "oCK-WNFHPk6j"
      },
      "source": [
        "*1. To get the spearman's correlation coefficient*"
      ]
    },
    {
      "cell_type": "code",
      "metadata": {
        "colab": {
          "base_uri": "https://localhost:8080/"
        },
        "id": "Qg4ogrANLqTW",
        "outputId": "114e86f7-68b2-407d-f25f-38a868fa76a9"
      },
      "source": [
        "#Fitting the K Nearest Neighbors Regressor to the dev set\n",
        "\n",
        "knnRegressor1 = KNeighborsRegressor(n_neighbors = 77)\n",
        "knnRegressor1.fit(X_test, Y_test)"
      ],
      "execution_count": 50,
      "outputs": [
        {
          "output_type": "execute_result",
          "data": {
            "text/plain": [
              "KNeighborsRegressor(algorithm='auto', leaf_size=30, metric='minkowski',\n",
              "                    metric_params=None, n_jobs=None, n_neighbors=77, p=2,\n",
              "                    weights='uniform')"
            ]
          },
          "metadata": {
            "tags": []
          },
          "execution_count": 50
        }
      ]
    },
    {
      "cell_type": "code",
      "metadata": {
        "colab": {
          "base_uri": "https://localhost:8080/"
        },
        "id": "aoA5x4IXPquh",
        "outputId": "98503040-e461-4cfc-b4ad-5762995c90c9"
      },
      "source": [
        "#Then predict with the remaining videos\n",
        "\n",
        "pred_knn_train = knnRegressor1.predict(X_test)\n",
        "pred_knn_train"
      ],
      "execution_count": 51,
      "outputs": [
        {
          "output_type": "execute_result",
          "data": {
            "text/plain": [
              "array([[0.88145455, 0.79919481],\n",
              "       [0.85951948, 0.74683117],\n",
              "       [0.88135065, 0.80758442],\n",
              "       ...,\n",
              "       [0.88671429, 0.76875325],\n",
              "       [0.86661039, 0.7437013 ],\n",
              "       [0.86532468, 0.77263636]])"
            ]
          },
          "metadata": {
            "tags": []
          },
          "execution_count": 51
        }
      ]
    },
    {
      "cell_type": "code",
      "metadata": {
        "colab": {
          "base_uri": "https://localhost:8080/"
        },
        "id": "EtO2NesZPqxs",
        "outputId": "6e800cbd-00ee-4a22-b070-563d1798c164"
      },
      "source": [
        "#Get the spearman's score for the k nearest neighbors model \n",
        "\n",
        "Knn_scores = Get_score(pred_knn_train, Y_test)"
      ],
      "execution_count": 52,
      "outputs": [
        {
          "output_type": "stream",
          "text": [
            "The Spearman's correlation coefficient is: 0.287\n",
            "The Spearman's correlation coefficient is: 0.155\n"
          ],
          "name": "stdout"
        }
      ]
    },
    {
      "cell_type": "markdown",
      "metadata": {
        "id": "gbYaWsNeQAg1"
      },
      "source": [
        "*2. To get predicted values for the test_videos*"
      ]
    },
    {
      "cell_type": "code",
      "metadata": {
        "colab": {
          "base_uri": "https://localhost:8080/"
        },
        "id": "abMTBRjsPq1H",
        "outputId": "230594c1-1677-44c9-e160-073b82c62214"
      },
      "source": [
        "#Fitting the K Nearest Neighbors Regressor to the dev set\n",
        "\n",
        "knnRegressor2 = KNeighborsRegressor(n_neighbors = 77)\n",
        "knnRegressor2.fit(X, Y)"
      ],
      "execution_count": 53,
      "outputs": [
        {
          "output_type": "execute_result",
          "data": {
            "text/plain": [
              "KNeighborsRegressor(algorithm='auto', leaf_size=30, metric='minkowski',\n",
              "                    metric_params=None, n_jobs=None, n_neighbors=77, p=2,\n",
              "                    weights='uniform')"
            ]
          },
          "metadata": {
            "tags": []
          },
          "execution_count": 53
        }
      ]
    },
    {
      "cell_type": "code",
      "metadata": {
        "id": "LAFJafgaQEsc",
        "colab": {
          "base_uri": "https://localhost:8080/"
        },
        "outputId": "d983bdc7-2b4d-4a18-bdc2-36448ef7541b"
      },
      "source": [
        "#Then predict with the test videos\n",
        "\n",
        "pred_knn_test = knnRegressor2.predict(X_test_data)\n",
        "pred_knn_test"
      ],
      "execution_count": 54,
      "outputs": [
        {
          "output_type": "execute_result",
          "data": {
            "text/plain": [
              "array([[0.85042857, 0.76193506],\n",
              "       [0.84903896, 0.77232468],\n",
              "       [0.88896104, 0.8064026 ],\n",
              "       ...,\n",
              "       [0.88406494, 0.82076623],\n",
              "       [0.8642987 , 0.76151948],\n",
              "       [0.83315584, 0.7518961 ]])"
            ]
          },
          "metadata": {
            "tags": []
          },
          "execution_count": 54
        }
      ]
    },
    {
      "cell_type": "code",
      "metadata": {
        "id": "VzpLMHhyQEvw"
      },
      "source": [
        "#Store the predicted values in a dataframe and export them as a csv\n",
        "\n",
        "results_knn = pd.DataFrame(pred_knn_test,columns = ['short_term_memorobility_knn','long_term_memorobility_knn'])\n",
        "results_knn.to_csv(\"HMP_KNearestNeighbor.csv\")"
      ],
      "execution_count": 55,
      "outputs": []
    },
    {
      "cell_type": "markdown",
      "metadata": {
        "id": "pSI3EbyMRvY5"
      },
      "source": [
        "##**AdaBoost Regressor**"
      ]
    },
    {
      "cell_type": "markdown",
      "metadata": {
        "id": "lq6lJy8eR40N"
      },
      "source": [
        "*1. To get the spearman's correlation coefficient*"
      ]
    },
    {
      "cell_type": "code",
      "metadata": {
        "id": "7tiR1cmsLqVs"
      },
      "source": [
        "#Seperate the short-term and long-term values for the model\n",
        "\n",
        "Y_short = final[['short-term_memorability']].values\n",
        "Y_long = final[['long-term_memorability']].values"
      ],
      "execution_count": 56,
      "outputs": []
    },
    {
      "cell_type": "code",
      "metadata": {
        "id": "Nfth6JZULqYL"
      },
      "source": [
        "#Spliting the videos based on short-term and long-term\n",
        "\n",
        "short_X_train,short_X_test,short_Y_train,short_Y_test = train_test_split(X,Y_short,test_size=0.2,random_state=40)\n",
        "long_X_train,long_X_test,long_Y_train,long_Y_test = train_test_split(X,Y_long,test_size=0.2,random_state=40)"
      ],
      "execution_count": 57,
      "outputs": []
    },
    {
      "cell_type": "code",
      "metadata": {
        "colab": {
          "base_uri": "https://localhost:8080/"
        },
        "id": "0-GHQEeLLqal",
        "outputId": "635d03f5-aed3-46c2-99cd-288f28e1944b"
      },
      "source": [
        "#Fit the adaboost model with both short-term and long-term \n",
        "\n",
        "abRegressor1 = AdaBoostRegressor()\n",
        "abRegressor1.fit(short_X_train, short_Y_train)\n",
        "\n",
        "abRegressor1 = AdaBoostRegressor()\n",
        "abRegressor1.fit(long_X_train, long_Y_train)"
      ],
      "execution_count": 58,
      "outputs": [
        {
          "output_type": "stream",
          "text": [
            "/usr/local/lib/python3.7/dist-packages/sklearn/utils/validation.py:760: DataConversionWarning: A column-vector y was passed when a 1d array was expected. Please change the shape of y to (n_samples, ), for example using ravel().\n",
            "  y = column_or_1d(y, warn=True)\n",
            "/usr/local/lib/python3.7/dist-packages/sklearn/utils/validation.py:760: DataConversionWarning: A column-vector y was passed when a 1d array was expected. Please change the shape of y to (n_samples, ), for example using ravel().\n",
            "  y = column_or_1d(y, warn=True)\n"
          ],
          "name": "stderr"
        },
        {
          "output_type": "execute_result",
          "data": {
            "text/plain": [
              "AdaBoostRegressor(base_estimator=None, learning_rate=1.0, loss='linear',\n",
              "                  n_estimators=50, random_state=None)"
            ]
          },
          "metadata": {
            "tags": []
          },
          "execution_count": 58
        }
      ]
    },
    {
      "cell_type": "code",
      "metadata": {
        "colab": {
          "base_uri": "https://localhost:8080/"
        },
        "id": "7coPjsY-Lqdy",
        "outputId": "9d7413a2-739e-4681-8c59-4619e7acf5a9"
      },
      "source": [
        "#Predicting the values\n",
        "\n",
        "Y_pred_short = abRegressor1.predict(short_X_test)\n",
        "print(Y_pred_short)\n",
        "\n",
        "Y_pred_long = abRegressor1.predict(long_X_test)\n",
        "print(Y_pred_long)"
      ],
      "execution_count": 61,
      "outputs": [
        {
          "output_type": "stream",
          "text": [
            "[0.73168296 0.75162395 0.75657499 ... 0.73108277 0.70481319 0.75162395]\n",
            "[0.73168296 0.75162395 0.75657499 ... 0.73108277 0.70481319 0.75162395]\n"
          ],
          "name": "stdout"
        }
      ]
    },
    {
      "cell_type": "code",
      "metadata": {
        "colab": {
          "base_uri": "https://localhost:8080/"
        },
        "id": "1KdOdd4WCGgs",
        "outputId": "02032b6e-6125-4fc7-b3f3-826f095a030a"
      },
      "source": [
        "#Get the spearman's score for the AdaBoost model \n",
        "\n",
        "Ab_short_scores = Get_score(Y_pred_short, short_Y_test)\n",
        "Ab_short_scores = Get_score(Y_pred_long, long_Y_test)"
      ],
      "execution_count": 62,
      "outputs": [
        {
          "output_type": "stream",
          "text": [
            "The Spearman's correlation coefficient is: 0.163\n",
            "The Spearman's correlation coefficient is: 0.071\n"
          ],
          "name": "stdout"
        }
      ]
    },
    {
      "cell_type": "markdown",
      "metadata": {
        "id": "A47ZhgPCR_Vm"
      },
      "source": [
        "*2. To get predicted values for the test_videos*"
      ]
    },
    {
      "cell_type": "code",
      "metadata": {
        "colab": {
          "base_uri": "https://localhost:8080/"
        },
        "id": "FlgdElUnCGkA",
        "outputId": "eb57030d-82c0-44a5-dc19-20e3991ca6da"
      },
      "source": [
        "#Fit the adaboost model with both short-term and long-term\n",
        "\n",
        "abRegressor2 = AdaBoostRegressor()\n",
        "abRegressor2.fit(X, Y_short)\n",
        "\n",
        "abRegressor2 = AdaBoostRegressor()\n",
        "abRegressor2.fit(X, Y_long)"
      ],
      "execution_count": 63,
      "outputs": [
        {
          "output_type": "stream",
          "text": [
            "/usr/local/lib/python3.7/dist-packages/sklearn/utils/validation.py:760: DataConversionWarning: A column-vector y was passed when a 1d array was expected. Please change the shape of y to (n_samples, ), for example using ravel().\n",
            "  y = column_or_1d(y, warn=True)\n",
            "/usr/local/lib/python3.7/dist-packages/sklearn/utils/validation.py:760: DataConversionWarning: A column-vector y was passed when a 1d array was expected. Please change the shape of y to (n_samples, ), for example using ravel().\n",
            "  y = column_or_1d(y, warn=True)\n"
          ],
          "name": "stderr"
        },
        {
          "output_type": "execute_result",
          "data": {
            "text/plain": [
              "AdaBoostRegressor(base_estimator=None, learning_rate=1.0, loss='linear',\n",
              "                  n_estimators=50, random_state=None)"
            ]
          },
          "metadata": {
            "tags": []
          },
          "execution_count": 63
        }
      ]
    },
    {
      "cell_type": "code",
      "metadata": {
        "id": "c7no1qM-TfJX",
        "colab": {
          "base_uri": "https://localhost:8080/"
        },
        "outputId": "25985121-817f-4d57-f1b5-25212fc0d67b"
      },
      "source": [
        "#Predicting the values with test videos\n",
        "\n",
        "pred_short_test = abRegressor2.predict(X_test_data)\n",
        "print(pred_short_test)\n",
        "\n",
        "pred_long_test = abRegressor2.predict(X_test_data)\n",
        "print(pred_long_test)"
      ],
      "execution_count": 65,
      "outputs": [
        {
          "output_type": "stream",
          "text": [
            "[0.72304491 0.7390104  0.75314125 ... 0.74930191 0.7144286  0.72766181]\n",
            "[0.72304491 0.7390104  0.75314125 ... 0.74930191 0.7144286  0.72766181]\n"
          ],
          "name": "stdout"
        }
      ]
    },
    {
      "cell_type": "code",
      "metadata": {
        "id": "gjc5wuy8TfMf",
        "colab": {
          "base_uri": "https://localhost:8080/",
          "height": 402
        },
        "outputId": "9ec6fcee-7ec8-4eef-d375-dc6bac8b3d96"
      },
      "source": [
        "#Storing the predictions in a dataframe\n",
        "\n",
        "results_ab = pd.DataFrame(pred_short_test,columns = ['short_term_memorobility_ab'])\n",
        "results_ab['lond_term_memorobility_ab'] = pred_long_test\n",
        "results_ab"
      ],
      "execution_count": 70,
      "outputs": [
        {
          "output_type": "execute_result",
          "data": {
            "text/html": [
              "<div>\n",
              "<style scoped>\n",
              "    .dataframe tbody tr th:only-of-type {\n",
              "        vertical-align: middle;\n",
              "    }\n",
              "\n",
              "    .dataframe tbody tr th {\n",
              "        vertical-align: top;\n",
              "    }\n",
              "\n",
              "    .dataframe thead th {\n",
              "        text-align: right;\n",
              "    }\n",
              "</style>\n",
              "<table border=\"1\" class=\"dataframe\">\n",
              "  <thead>\n",
              "    <tr style=\"text-align: right;\">\n",
              "      <th></th>\n",
              "      <th>short_term_memorobility_ab</th>\n",
              "      <th>lond_term_memorobility_ab</th>\n",
              "    </tr>\n",
              "  </thead>\n",
              "  <tbody>\n",
              "    <tr>\n",
              "      <th>0</th>\n",
              "      <td>0.723045</td>\n",
              "      <td>0.723045</td>\n",
              "    </tr>\n",
              "    <tr>\n",
              "      <th>1</th>\n",
              "      <td>0.739010</td>\n",
              "      <td>0.739010</td>\n",
              "    </tr>\n",
              "    <tr>\n",
              "      <th>2</th>\n",
              "      <td>0.753141</td>\n",
              "      <td>0.753141</td>\n",
              "    </tr>\n",
              "    <tr>\n",
              "      <th>3</th>\n",
              "      <td>0.749302</td>\n",
              "      <td>0.749302</td>\n",
              "    </tr>\n",
              "    <tr>\n",
              "      <th>4</th>\n",
              "      <td>0.723045</td>\n",
              "      <td>0.723045</td>\n",
              "    </tr>\n",
              "    <tr>\n",
              "      <th>...</th>\n",
              "      <td>...</td>\n",
              "      <td>...</td>\n",
              "    </tr>\n",
              "    <tr>\n",
              "      <th>1995</th>\n",
              "      <td>0.723045</td>\n",
              "      <td>0.723045</td>\n",
              "    </tr>\n",
              "    <tr>\n",
              "      <th>1996</th>\n",
              "      <td>0.727662</td>\n",
              "      <td>0.727662</td>\n",
              "    </tr>\n",
              "    <tr>\n",
              "      <th>1997</th>\n",
              "      <td>0.749302</td>\n",
              "      <td>0.749302</td>\n",
              "    </tr>\n",
              "    <tr>\n",
              "      <th>1998</th>\n",
              "      <td>0.714429</td>\n",
              "      <td>0.714429</td>\n",
              "    </tr>\n",
              "    <tr>\n",
              "      <th>1999</th>\n",
              "      <td>0.727662</td>\n",
              "      <td>0.727662</td>\n",
              "    </tr>\n",
              "  </tbody>\n",
              "</table>\n",
              "<p>2000 rows × 2 columns</p>\n",
              "</div>"
            ],
            "text/plain": [
              "      short_term_memorobility_ab  lond_term_memorobility_ab\n",
              "0                       0.723045                   0.723045\n",
              "1                       0.739010                   0.739010\n",
              "2                       0.753141                   0.753141\n",
              "3                       0.749302                   0.749302\n",
              "4                       0.723045                   0.723045\n",
              "...                          ...                        ...\n",
              "1995                    0.723045                   0.723045\n",
              "1996                    0.727662                   0.727662\n",
              "1997                    0.749302                   0.749302\n",
              "1998                    0.714429                   0.714429\n",
              "1999                    0.727662                   0.727662\n",
              "\n",
              "[2000 rows x 2 columns]"
            ]
          },
          "metadata": {
            "tags": []
          },
          "execution_count": 70
        }
      ]
    },
    {
      "cell_type": "code",
      "metadata": {
        "id": "v1_hIIXD-jlP"
      },
      "source": [
        "#Exporting them into a csv\n",
        "\n",
        "results_ab.to_csv(\"HMP_ADABoost.csv\")"
      ],
      "execution_count": 71,
      "outputs": []
    },
    {
      "cell_type": "markdown",
      "metadata": {
        "id": "fy6U4omwU2GS"
      },
      "source": [
        "##**Neural Network Model**\n",
        "\n",
        "Just checking only for getting the spearman's score"
      ]
    },
    {
      "cell_type": "code",
      "metadata": {
        "id": "o8_BdIHhTfPy"
      },
      "source": [
        "#Scaling the features\n",
        "\n",
        "sc = StandardScaler()\n",
        "short_X_train = sc.fit_transform(short_X_train)\n",
        "short_X_test = sc.transform(short_X_test)\n",
        "\n",
        "long_X_train = sc.fit_transform(long_X_train)\n",
        "long_X_test = sc.transform(long_X_test)"
      ],
      "execution_count": 72,
      "outputs": []
    },
    {
      "cell_type": "code",
      "metadata": {
        "id": "DO2BdaYCU1Os"
      },
      "source": [
        "#Building the neural network model\n",
        "\n",
        "neuralNetModel = Sequential()\n",
        "neuralNetModel.add(Dense(32, activation = 'relu', input_dim = 6075))\n",
        "neuralNetModel.add(Dense(units = 32, activation = 'relu'))\n",
        "neuralNetModel.add(Dense(units = 32, activation = 'relu'))\n",
        "neuralNetModel.add(Dense(units = 1))"
      ],
      "execution_count": 80,
      "outputs": []
    },
    {
      "cell_type": "code",
      "metadata": {
        "id": "B17XWfKVU1Q2"
      },
      "source": [
        "#Compiling the model\n",
        "\n",
        "neuralNetModel.compile(optimizer = 'adam',loss = 'mean_squared_error')"
      ],
      "execution_count": 81,
      "outputs": []
    },
    {
      "cell_type": "code",
      "metadata": {
        "id": "G0_Ki-MfU1TI",
        "colab": {
          "base_uri": "https://localhost:8080/"
        },
        "outputId": "d14c1a83-dfb3-4939-b466-22e27cb45398"
      },
      "source": [
        "#fitting the model\n",
        "\n",
        "neuralNetModel.fit(short_X_train, short_Y_train, batch_size = 10, epochs = 51)\n",
        "neuralNetModel.fit(long_X_train, long_Y_train, batch_size = 10, epochs = 51)"
      ],
      "execution_count": 82,
      "outputs": [
        {
          "output_type": "stream",
          "text": [
            "Epoch 1/51\n",
            "480/480 [==============================] - 2s 3ms/step - loss: 0.2938\n",
            "Epoch 2/51\n",
            "480/480 [==============================] - 1s 3ms/step - loss: 0.0443\n",
            "Epoch 3/51\n",
            "480/480 [==============================] - 1s 3ms/step - loss: 0.0234\n",
            "Epoch 4/51\n",
            "480/480 [==============================] - 1s 2ms/step - loss: 0.0153\n",
            "Epoch 5/51\n",
            "480/480 [==============================] - 1s 2ms/step - loss: 0.0200\n",
            "Epoch 6/51\n",
            "480/480 [==============================] - 1s 2ms/step - loss: 0.0164\n",
            "Epoch 7/51\n",
            "480/480 [==============================] - 1s 2ms/step - loss: 0.0092\n",
            "Epoch 8/51\n",
            "480/480 [==============================] - 1s 3ms/step - loss: 0.0079\n",
            "Epoch 9/51\n",
            "480/480 [==============================] - 1s 3ms/step - loss: 0.0081\n",
            "Epoch 10/51\n",
            "480/480 [==============================] - 1s 3ms/step - loss: 0.0083\n",
            "Epoch 11/51\n",
            "480/480 [==============================] - 1s 3ms/step - loss: 0.0075\n",
            "Epoch 12/51\n",
            "480/480 [==============================] - 1s 3ms/step - loss: 0.0073\n",
            "Epoch 13/51\n",
            "480/480 [==============================] - 1s 3ms/step - loss: 0.0081\n",
            "Epoch 14/51\n",
            "480/480 [==============================] - 1s 3ms/step - loss: 0.0071\n",
            "Epoch 15/51\n",
            "480/480 [==============================] - 1s 3ms/step - loss: 0.0067\n",
            "Epoch 16/51\n",
            "480/480 [==============================] - 1s 3ms/step - loss: 0.0096\n",
            "Epoch 17/51\n",
            "480/480 [==============================] - 1s 3ms/step - loss: 0.0091\n",
            "Epoch 18/51\n",
            "480/480 [==============================] - 1s 3ms/step - loss: 0.0066\n",
            "Epoch 19/51\n",
            "480/480 [==============================] - 1s 3ms/step - loss: 0.0065\n",
            "Epoch 20/51\n",
            "480/480 [==============================] - 1s 3ms/step - loss: 0.0075\n",
            "Epoch 21/51\n",
            "480/480 [==============================] - 1s 3ms/step - loss: 0.0065\n",
            "Epoch 22/51\n",
            "480/480 [==============================] - 1s 3ms/step - loss: 0.0065\n",
            "Epoch 23/51\n",
            "480/480 [==============================] - 1s 3ms/step - loss: 0.0067\n",
            "Epoch 24/51\n",
            "480/480 [==============================] - 1s 3ms/step - loss: 0.0064\n",
            "Epoch 25/51\n",
            "480/480 [==============================] - 1s 3ms/step - loss: 0.0066\n",
            "Epoch 26/51\n",
            "480/480 [==============================] - 1s 3ms/step - loss: 0.0069\n",
            "Epoch 27/51\n",
            "480/480 [==============================] - 1s 3ms/step - loss: 0.0064\n",
            "Epoch 28/51\n",
            "480/480 [==============================] - 1s 3ms/step - loss: 0.0066\n",
            "Epoch 29/51\n",
            "480/480 [==============================] - 1s 3ms/step - loss: 0.0066\n",
            "Epoch 30/51\n",
            "480/480 [==============================] - 1s 3ms/step - loss: 0.0068\n",
            "Epoch 31/51\n",
            "480/480 [==============================] - 1s 3ms/step - loss: 0.0068\n",
            "Epoch 32/51\n",
            "480/480 [==============================] - 1s 3ms/step - loss: 0.0065\n",
            "Epoch 33/51\n",
            "480/480 [==============================] - 1s 3ms/step - loss: 0.0069\n",
            "Epoch 34/51\n",
            "480/480 [==============================] - 1s 3ms/step - loss: 0.0063\n",
            "Epoch 35/51\n",
            "480/480 [==============================] - 1s 3ms/step - loss: 0.0066\n",
            "Epoch 36/51\n",
            "480/480 [==============================] - 1s 3ms/step - loss: 0.0064\n",
            "Epoch 37/51\n",
            "480/480 [==============================] - 1s 3ms/step - loss: 0.0067\n",
            "Epoch 38/51\n",
            "480/480 [==============================] - 1s 3ms/step - loss: 0.0064\n",
            "Epoch 39/51\n",
            "480/480 [==============================] - 1s 3ms/step - loss: 0.0065\n",
            "Epoch 40/51\n",
            "480/480 [==============================] - 1s 3ms/step - loss: 0.0065\n",
            "Epoch 41/51\n",
            "480/480 [==============================] - 1s 3ms/step - loss: 0.0064\n",
            "Epoch 42/51\n",
            "480/480 [==============================] - 1s 3ms/step - loss: 0.0067\n",
            "Epoch 43/51\n",
            "480/480 [==============================] - 1s 3ms/step - loss: 0.0064\n",
            "Epoch 44/51\n",
            "480/480 [==============================] - 1s 3ms/step - loss: 0.0065\n",
            "Epoch 45/51\n",
            "480/480 [==============================] - 1s 3ms/step - loss: 0.0067\n",
            "Epoch 46/51\n",
            "480/480 [==============================] - 1s 3ms/step - loss: 0.0062\n",
            "Epoch 47/51\n",
            "480/480 [==============================] - 1s 3ms/step - loss: 0.0065\n",
            "Epoch 48/51\n",
            "480/480 [==============================] - 1s 3ms/step - loss: 0.0067\n",
            "Epoch 49/51\n",
            "480/480 [==============================] - 1s 3ms/step - loss: 0.0065\n",
            "Epoch 50/51\n",
            "480/480 [==============================] - 1s 3ms/step - loss: 0.0064\n",
            "Epoch 51/51\n",
            "480/480 [==============================] - 1s 3ms/step - loss: 0.0064\n",
            "Epoch 1/51\n",
            "480/480 [==============================] - 1s 2ms/step - loss: 0.0214\n",
            "Epoch 2/51\n",
            "480/480 [==============================] - 1s 2ms/step - loss: 0.0212\n",
            "Epoch 3/51\n",
            "480/480 [==============================] - 1s 2ms/step - loss: 0.0211\n",
            "Epoch 4/51\n",
            "480/480 [==============================] - 1s 3ms/step - loss: 0.0212\n",
            "Epoch 5/51\n",
            "480/480 [==============================] - 1s 3ms/step - loss: 0.0212\n",
            "Epoch 6/51\n",
            "480/480 [==============================] - 1s 3ms/step - loss: 0.0211\n",
            "Epoch 7/51\n",
            "480/480 [==============================] - 1s 3ms/step - loss: 0.0212\n",
            "Epoch 8/51\n",
            "480/480 [==============================] - 1s 3ms/step - loss: 0.0212\n",
            "Epoch 9/51\n",
            "480/480 [==============================] - 1s 3ms/step - loss: 0.0212\n",
            "Epoch 10/51\n",
            "480/480 [==============================] - 1s 3ms/step - loss: 0.0212\n",
            "Epoch 11/51\n",
            "480/480 [==============================] - 1s 3ms/step - loss: 0.0212\n",
            "Epoch 12/51\n",
            "480/480 [==============================] - 1s 3ms/step - loss: 0.0212\n",
            "Epoch 13/51\n",
            "480/480 [==============================] - 1s 3ms/step - loss: 0.0212\n",
            "Epoch 14/51\n",
            "480/480 [==============================] - 1s 3ms/step - loss: 0.0212\n",
            "Epoch 15/51\n",
            "480/480 [==============================] - 1s 3ms/step - loss: 0.0212\n",
            "Epoch 16/51\n",
            "480/480 [==============================] - 1s 3ms/step - loss: 0.0212\n",
            "Epoch 17/51\n",
            "480/480 [==============================] - 1s 3ms/step - loss: 0.0212\n",
            "Epoch 18/51\n",
            "480/480 [==============================] - 1s 2ms/step - loss: 0.0211\n",
            "Epoch 19/51\n",
            "480/480 [==============================] - 1s 2ms/step - loss: 0.0212\n",
            "Epoch 20/51\n",
            "480/480 [==============================] - 1s 3ms/step - loss: 0.0212\n",
            "Epoch 21/51\n",
            "480/480 [==============================] - 1s 3ms/step - loss: 0.0212\n",
            "Epoch 22/51\n",
            "480/480 [==============================] - 1s 2ms/step - loss: 0.0212\n",
            "Epoch 23/51\n",
            "480/480 [==============================] - 1s 2ms/step - loss: 0.0212\n",
            "Epoch 24/51\n",
            "480/480 [==============================] - 1s 2ms/step - loss: 0.0212\n",
            "Epoch 25/51\n",
            "480/480 [==============================] - 1s 3ms/step - loss: 0.0211\n",
            "Epoch 26/51\n",
            "480/480 [==============================] - 1s 2ms/step - loss: 0.0211\n",
            "Epoch 27/51\n",
            "480/480 [==============================] - 1s 2ms/step - loss: 0.0211\n",
            "Epoch 28/51\n",
            "480/480 [==============================] - 1s 2ms/step - loss: 0.0212\n",
            "Epoch 29/51\n",
            "480/480 [==============================] - 1s 2ms/step - loss: 0.0212\n",
            "Epoch 30/51\n",
            "480/480 [==============================] - 1s 3ms/step - loss: 0.0212\n",
            "Epoch 31/51\n",
            "480/480 [==============================] - 1s 3ms/step - loss: 0.0211\n",
            "Epoch 32/51\n",
            "480/480 [==============================] - 1s 3ms/step - loss: 0.0211\n",
            "Epoch 33/51\n",
            "480/480 [==============================] - 1s 3ms/step - loss: 0.0212\n",
            "Epoch 34/51\n",
            "480/480 [==============================] - 1s 3ms/step - loss: 0.0212\n",
            "Epoch 35/51\n",
            "480/480 [==============================] - 1s 3ms/step - loss: 0.0212\n",
            "Epoch 36/51\n",
            "480/480 [==============================] - 1s 3ms/step - loss: 0.0212\n",
            "Epoch 37/51\n",
            "480/480 [==============================] - 1s 3ms/step - loss: 0.0212\n",
            "Epoch 38/51\n",
            "480/480 [==============================] - 1s 3ms/step - loss: 0.0211\n",
            "Epoch 39/51\n",
            "480/480 [==============================] - 1s 3ms/step - loss: 0.0211\n",
            "Epoch 40/51\n",
            "480/480 [==============================] - 1s 2ms/step - loss: 0.0212\n",
            "Epoch 41/51\n",
            "480/480 [==============================] - 1s 2ms/step - loss: 0.0212\n",
            "Epoch 42/51\n",
            "480/480 [==============================] - 1s 3ms/step - loss: 0.0212\n",
            "Epoch 43/51\n",
            "480/480 [==============================] - 1s 3ms/step - loss: 0.0212\n",
            "Epoch 44/51\n",
            "480/480 [==============================] - 1s 2ms/step - loss: 0.0212\n",
            "Epoch 45/51\n",
            "480/480 [==============================] - 1s 3ms/step - loss: 0.0212\n",
            "Epoch 46/51\n",
            "480/480 [==============================] - 1s 3ms/step - loss: 0.0212\n",
            "Epoch 47/51\n",
            "480/480 [==============================] - 1s 3ms/step - loss: 0.0212\n",
            "Epoch 48/51\n",
            "480/480 [==============================] - 1s 3ms/step - loss: 0.0211\n",
            "Epoch 49/51\n",
            "480/480 [==============================] - 1s 2ms/step - loss: 0.0211\n",
            "Epoch 50/51\n",
            "480/480 [==============================] - 1s 2ms/step - loss: 0.0211\n",
            "Epoch 51/51\n",
            "480/480 [==============================] - 1s 2ms/step - loss: 0.0211\n"
          ],
          "name": "stdout"
        },
        {
          "output_type": "execute_result",
          "data": {
            "text/plain": [
              "<tensorflow.python.keras.callbacks.History at 0x7f36d8e9eb50>"
            ]
          },
          "metadata": {
            "tags": []
          },
          "execution_count": 82
        }
      ]
    },
    {
      "cell_type": "code",
      "metadata": {
        "id": "rKATk0phU1Wa",
        "colab": {
          "base_uri": "https://localhost:8080/"
        },
        "outputId": "23085b78-12e7-4b51-92a0-9eb354370624"
      },
      "source": [
        "#Getting the predictions and finding the spearmen's score\n",
        "\n",
        "pred_short_nn = neuralNetModel.predict(short_X_test)\n",
        "NN_short_scores = Get_score(pred_short_nn, short_Y_test)\n",
        "\n",
        "pred_long_nn = neuralNetModel.predict(long_X_test)\n",
        "NN_long_scores = Get_score(pred_long_nn, long_Y_test)"
      ],
      "execution_count": 84,
      "outputs": [
        {
          "output_type": "stream",
          "text": [
            "The Spearman's correlation coefficient is: -0.046\n",
            "The Spearman's correlation coefficient is: 0.020\n"
          ],
          "name": "stdout"
        }
      ]
    },
    {
      "cell_type": "markdown",
      "metadata": {
        "id": "0xKI7-mhdBVW"
      },
      "source": [
        "# **Gradiant Boost Regressor**\n",
        "\n",
        "Just checking the spearmen's score"
      ]
    },
    {
      "cell_type": "code",
      "metadata": {
        "colab": {
          "base_uri": "https://localhost:8080/"
        },
        "id": "piZXIVikJj_Z",
        "outputId": "abc78977-630e-4f67-fd5e-e9b927e97542"
      },
      "source": [
        "#Fitting the HMP feature values to the gradiant boost regressor\n",
        "\n",
        "gbRegressor= GradientBoostingRegressor()\n",
        "gbRegressor.fit(short_X_train,short_Y_train)\n",
        "gbRegressor.fit(long_X_train,long_Y_train)"
      ],
      "execution_count": 85,
      "outputs": [
        {
          "output_type": "stream",
          "text": [
            "/usr/local/lib/python3.7/dist-packages/sklearn/ensemble/_gb.py:1454: DataConversionWarning: A column-vector y was passed when a 1d array was expected. Please change the shape of y to (n_samples, ), for example using ravel().\n",
            "  y = column_or_1d(y, warn=True)\n",
            "/usr/local/lib/python3.7/dist-packages/sklearn/ensemble/_gb.py:1454: DataConversionWarning: A column-vector y was passed when a 1d array was expected. Please change the shape of y to (n_samples, ), for example using ravel().\n",
            "  y = column_or_1d(y, warn=True)\n"
          ],
          "name": "stderr"
        },
        {
          "output_type": "execute_result",
          "data": {
            "text/plain": [
              "GradientBoostingRegressor(alpha=0.9, ccp_alpha=0.0, criterion='friedman_mse',\n",
              "                          init=None, learning_rate=0.1, loss='ls', max_depth=3,\n",
              "                          max_features=None, max_leaf_nodes=None,\n",
              "                          min_impurity_decrease=0.0, min_impurity_split=None,\n",
              "                          min_samples_leaf=1, min_samples_split=2,\n",
              "                          min_weight_fraction_leaf=0.0, n_estimators=100,\n",
              "                          n_iter_no_change=None, presort='deprecated',\n",
              "                          random_state=None, subsample=1.0, tol=0.0001,\n",
              "                          validation_fraction=0.1, verbose=0, warm_start=False)"
            ]
          },
          "metadata": {
            "tags": []
          },
          "execution_count": 85
        }
      ]
    },
    {
      "cell_type": "code",
      "metadata": {
        "id": "Z0UpBTPVJkFZ"
      },
      "source": [
        "#Predict values\n",
        " \n",
        "pred_short_gb = gbRegressor.predict(short_X_test)\n",
        "pred_long_gb = gbRegressor.predict(long_X_test)"
      ],
      "execution_count": 86,
      "outputs": []
    },
    {
      "cell_type": "code",
      "metadata": {
        "colab": {
          "base_uri": "https://localhost:8080/"
        },
        "id": "Vu3R0c5pJkKu",
        "outputId": "258290f9-5b5d-483b-f758-91142dd670b8"
      },
      "source": [
        "#Get the spearmen's score\n",
        "\n",
        "Get_score(pred_short_gb, short_Y_test)\n",
        "Get_score(pred_long_gb, long_Y_test)"
      ],
      "execution_count": 87,
      "outputs": [
        {
          "output_type": "stream",
          "text": [
            "The Spearman's correlation coefficient is: 0.225\n",
            "The Spearman's correlation coefficient is: 0.105\n"
          ],
          "name": "stdout"
        }
      ]
    },
    {
      "cell_type": "markdown",
      "metadata": {
        "id": "vT6-_t-fgmS6"
      },
      "source": [
        "                                                         **End**\n",
        "\n"
      ]
    }
  ]
}